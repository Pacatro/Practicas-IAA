{
 "cells": [
  {
   "cell_type": "code",
   "execution_count": 1,
   "metadata": {
    "id": "XVUBzprJR5d0"
   },
   "outputs": [],
   "source": [
    "import numpy as np\n",
    "import pandas as pd\n",
    "import datetime\n",
    "import math\n",
    "import random\n",
    "from datetime import datetime\n",
    "from statistics import mean\n",
    "from sklearn import linear_model"
   ]
  },
  {
   "cell_type": "code",
   "execution_count": 2,
   "metadata": {
    "id": "GPjYz6fXSArD"
   },
   "outputs": [],
   "source": [
    "x = [\n",
    "    [1,2],\n",
    "    [1,3],\n",
    "    [2,3],\n",
    "    [2,4],\n",
    "    [3,2],\n",
    "    [3,5],\n",
    "    [4,1],\n",
    "    #A partir de aqui es relleno para el mini-batch\n",
    "    [1,2],\n",
    "    [1,3],\n",
    "    [2,3],\n",
    "    [2,4],\n",
    "    [3,2],\n",
    "    [3,5],\n",
    "    [4,1]\n",
    "]\n",
    "y = [1.03,-1.44,4.53,2.24,13.27,5.62,21.53,#A partir de aqui es relleno para el mini-batch\n",
    "     1.03,-1.44,4.53,2.24,13.27,5.62,21.53]"
   ]
  },
  {
   "cell_type": "code",
   "execution_count": 3,
   "metadata": {
    "id": "RprMFZ13UX1p"
   },
   "outputs": [],
   "source": [
    "def signo(x):\n",
    "  if x>=0:\n",
    "    return 1\n",
    "  else:\n",
    "    return -1"
   ]
  },
  {
   "cell_type": "code",
   "execution_count": 4,
   "metadata": {
    "id": "SrN7Rr5YXJq4"
   },
   "outputs": [],
   "source": [
    "def predict(modelo,x):\n",
    "  if type(x[0]) == list:\n",
    "    pred_v = []\n",
    "    for x_it in x:\n",
    "      pred = modelo[len(modelo)-1]\n",
    "      for i in range(len(modelo)-1):\n",
    "        pred+= modelo[i]*x_it[i]\n",
    "      pred_v.append(pred)\n",
    "    return pred_v\n",
    "  else:\n",
    "    pred = modelo[len(modelo)-1]\n",
    "    for i in range(len(modelo)-1):\n",
    "      pred+= modelo[i]*x[i]\n",
    "\n",
    "    return pred\n",
    "\n",
    "def MAE(modelo,x,y):\n",
    "  pred = predict(modelo,x)\n",
    "  errs =[e1 - e2 for e1, e2 in zip(y,pred)]\n",
    "  abs_v = [abs(ele) for ele in errs]\n",
    "\n",
    "  return mean(abs_v)\n",
    "def MSE(modelo,x,y):\n",
    "  pred = predict(modelo,x)\n",
    "  errs =[e1 - e2 for e1, e2 in zip(y,pred)]\n",
    "  squ_v = [(ele)**2 for ele in errs]\n",
    "\n",
    "  return mean(squ_v)\n",
    "\n",
    "def MSE_GRAD(modelo,x,errs,w_it,l_rate):\n",
    "  if w_it < len(modelo)-1:\n",
    "        #len(modelo)-1 porque el último peso es el sesgo y se ajusta\n",
    "        #de forma distinta\n",
    "        #Aqui se ajustan todos los pesos menos el bias\n",
    "\n",
    "        #Cálculo del Σ((Ŷ-Y)*Xji)\n",
    "        for er in range(len(errs)):\n",
    "          errs[er]= errs[er]*x[er][w_it]\n",
    "        modelo[w_it] = modelo[w_it]-1*(2*l_rate)*mean(errs)\n",
    "\n",
    "  else:\n",
    "    #Aqui se ajusta el bias\n",
    "    modelo[w_it] = modelo[w_it] -1*(2*l_rate*mean(errs) )\n",
    "\n",
    "def MAE_GRAD(modelo,x,errs,w_it,l_rate):\n",
    "  if w_it < len(modelo)-1:\n",
    "        for er in range(len(errs)):\n",
    "          errs[er]= signo(errs[er])*x[er][w_it]\n",
    "        modelo[w_it] = modelo[w_it]-1*(l_rate)*mean(errs)\n",
    "        #Aqui se ajusta el bias\n",
    "  else:\n",
    "    errs = [signo(x) for x in errs]\n",
    "    modelo[w_it] = modelo[w_it] -1*(l_rate*mean(errs) )"
   ]
  },
  {
   "cell_type": "code",
   "execution_count": null,
   "metadata": {
    "colab": {
     "base_uri": "https://localhost:8080/"
    },
    "id": "c0Z0bkFcYEOS",
    "outputId": "1ca9e94f-beff-417b-f747-63518c61027c"
   },
   "outputs": [
    {
     "data": {
      "text/plain": [
       "[4, 5, 6, 7, 6, 9, 6, 4, 5, 6, 7, 6, 9, 6]"
      ]
     },
     "execution_count": 25,
     "metadata": {},
     "output_type": "execute_result"
    }
   ],
   "source": [
    "predict([1,1,1],x)"
   ]
  },
  {
   "cell_type": "code",
   "execution_count": 5,
   "metadata": {
    "id": "wmRWBWArTNAP"
   },
   "outputs": [],
   "source": [
    "modelo = [0,0,0]\n",
    "#[x1,x2,b]"
   ]
  },
  {
   "cell_type": "code",
   "execution_count": 6,
   "metadata": {
    "id": "I2A-9VCFg_eJ"
   },
   "outputs": [],
   "source": [
    "def generate_mini_batch(x, y, batch_percentage):\n",
    "  tam_mini_batch = math.trunc(len(x)*batch_percentage)\n",
    "  mini_batch_x = []\n",
    "  mini_batch_y = []\n",
    "  x_copy = x.copy()\n",
    "  y_copy = y.copy()\n",
    "\n",
    "  while len(x_copy)>0:\n",
    "    it_mini_batchx = []\n",
    "    it_mini_batchy = []\n",
    "    while len(it_mini_batchx)<tam_mini_batch:\n",
    "      index = random.randint(0,len(x_copy)-1)\n",
    "      it_mini_batchx.append(x_copy[index])\n",
    "      it_mini_batchy.append(y_copy[index])\n",
    "      x_copy.pop(index)\n",
    "      y_copy.pop(index)\n",
    "    mini_batch_x.append(it_mini_batchx)\n",
    "    mini_batch_y.append(it_mini_batchy)\n",
    "\n",
    "  return mini_batch_x,mini_batch_y\n"
   ]
  },
  {
   "cell_type": "code",
   "execution_count": 22,
   "metadata": {
    "id": "jwEvdyNvT0E-"
   },
   "outputs": [],
   "source": [
    "def linear_regression(modelo,x,y,n_it,l_rate,func_ajuste, minibatch_mode, batch_percentage=None):\n",
    "  for _ in range(n_it):\n",
    "    if not minibatch_mode:\n",
    "      errs = []\n",
    "      pred = predict(modelo,x)\n",
    "      errs = [e1 - e2 for e1, e2 in zip(pred,y)]\n",
    "\n",
    "      for w_it in range(len(modelo)):\n",
    "        errs_it = errs.copy()\n",
    "        func_ajuste(modelo,x,errs_it,w_it,l_rate)\n",
    "    else:\n",
    "      batch_x, batch_y = generate_mini_batch(x, y, batch_percentage)\n",
    "      for a, b in zip(batch_x, batch_y):\n",
    "        errs = []\n",
    "        pred = predict(modelo,a)\n",
    "        errs = [e1 - e2 for e1, e2 in zip(pred,b)]\n",
    "\n",
    "        for w_it in range(len(modelo)):\n",
    "          errs_it = errs.copy()\n",
    "          func_ajuste(modelo,a,errs_it,w_it,l_rate)\n",
    "  return modelo"
   ]
  },
  {
   "cell_type": "code",
   "execution_count": null,
   "metadata": {
    "id": "7wrIZ0WTcXi3"
   },
   "outputs": [],
   "source": [
    "# Ajuste usando batch\n",
    "\n",
    "print(\"Ajuste usando batch\")\n",
    "\n",
    "modelo = [1,1,1]\n",
    "print('Ajuste con MSE')\n",
    "print('Error inicial -> ',MSE(modelo,x,y))\n",
    "linear_regression(modelo,x,y,20000,0.001,MSE_GRAD, False)\n",
    "print('Error final -> ',MSE(modelo,x,y))\n",
    "print(modelo)\n",
    "\n",
    "modelo = [1,1,1]\n",
    "print('\\nAjuste con MAE')\n",
    "print('Error inicial -> ',MAE(modelo,x,y))\n",
    "linear_regression(modelo,x,y,20000,0.001,MAE_GRAD, False)\n",
    "print('Error final -> ',MAE(modelo,x,y))\n",
    "print(modelo)\n",
    "\n",
    "# Ajuste usando minibatch\n",
    "\n",
    "print(\"\\nAjuste usando minibatch\")\n",
    "modelo = [1,1,1]\n",
    "print('Ajuste con MSE')\n",
    "print('Error inicial -> ',MSE(modelo,x,y))\n",
    "linear_regression(modelo,x,y,20000,0.001,MSE_GRAD, True, 0.2)\n",
    "print('Error final -> ',MSE(modelo,x,y))\n",
    "print(modelo)\n",
    "\n",
    "modelo = [1,1,1]\n",
    "print('\\nAjuste con MAE')\n",
    "print('Error inicial -> ',MAE(modelo,x,y))\n",
    "linear_regression(modelo,x,y,20000,0.001,MAE_GRAD, True, 0.2)\n",
    "print('Error final -> ',MAE(modelo,x,y))\n",
    "print(modelo)"
   ]
  },
  {
   "cell_type": "markdown",
   "metadata": {
    "id": "xsafXViEg_eK"
   },
   "source": [
    "Transformación del dataset a arrays para que el regresor pueda trabajar con él"
   ]
  },
  {
   "cell_type": "code",
   "execution_count": 19,
   "metadata": {
    "id": "zsexTSSg1sHV"
   },
   "outputs": [],
   "source": [
    "data = pd.read_csv('diabetes.tab.csv',delimiter='\\t')\n",
    "def from_dataset_to_arrays(data):\n",
    "  Y = data['Y']\n",
    "  y = list(Y.values)\n",
    "  data = data.drop(columns='Y')\n",
    "  x = list(data.values)\n",
    "  for a in range(len(x)):\n",
    "    b = list(x[a])\n",
    "    x[a] = b\n",
    "\n",
    "  return x,y\n",
    "x,y = from_dataset_to_arrays(data)"
   ]
  },
  {
   "cell_type": "markdown",
   "metadata": {
    "id": "dS4zl4ozhO7J"
   },
   "source": [
    "Nota, aquí si no se utiliza un learning rate pequeño no minimiza bien el error"
   ]
  },
  {
   "cell_type": "code",
   "execution_count": 23,
   "metadata": {
    "colab": {
     "base_uri": "https://localhost:8080/"
    },
    "id": "cYq5eqHlg_eL",
    "outputId": "c2c34448-9070-487d-e821-2b5464935403"
   },
   "outputs": [
    {
     "name": "stdout",
     "output_type": "stream",
     "text": [
      "Ajuste con MSE\n",
      "Error inicial ->  382.9552796380091\n",
      "Error final ->  46.55631306348672\n",
      "[-0.09301242361673175, -0.2118347205229997, 5.170857536195489, 0.726097690015385, 1.3607173975557387, -1.5565579473985036, -2.681144560201426, 0.6958787173297917, 1.0526176919558023, 0.8364888144335826]\n"
     ]
    }
   ],
   "source": [
    "modelo = []\n",
    "for i in range(len(x[0])):\n",
    "  modelo.append(1)\n",
    "print('Ajuste con MSE')\n",
    "print('Error inicial -> ',MAE(modelo,x,y))\n",
    "modelo =linear_regression(modelo,x,y,1000,0.00001,MSE_GRAD,False)\n",
    "print('Error final -> ',MAE(modelo,x,y))\n",
    "print(modelo)"
   ]
  },
  {
   "cell_type": "code",
   "execution_count": null,
   "metadata": {
    "id": "t07dHtzFhLu1"
   },
   "outputs": [],
   "source": [
    "reg = linear_model.LinearRegression()\n",
    "reg.fit(x, y)\n",
    "\n",
    "print(f'[{reg.coef_} {reg.intercept_}]')\n"
   ]
  }
 ],
 "metadata": {
  "colab": {
   "provenance": []
  },
  "kernelspec": {
   "display_name": "Python 3 (ipykernel)",
   "language": "python",
   "name": "python3"
  },
  "language_info": {
   "codemirror_mode": {
    "name": "ipython",
    "version": 3
   },
   "file_extension": ".py",
   "mimetype": "text/x-python",
   "name": "python",
   "nbconvert_exporter": "python",
   "pygments_lexer": "ipython3",
   "version": "3.10.12"
  }
 },
 "nbformat": 4,
 "nbformat_minor": 1
}
