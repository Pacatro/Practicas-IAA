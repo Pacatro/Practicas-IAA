{
 "cells": [
  {
   "cell_type": "code",
   "execution_count": 59,
   "metadata": {
    "id": "XVUBzprJR5d0"
   },
   "outputs": [],
   "source": [
    "import numpy as np\n",
    "import pandas as pd\n",
    "import matplotlib.pyplot as plt\n",
    "import datetime\n",
    "import math\n",
    "import random\n",
    "from datetime import datetime\n",
    "from statistics import mean\n",
    "from sklearn import linear_model\n",
    "from sklearn.metrics import mean_squared_error, mean_absolute_error"
   ]
  },
  {
   "cell_type": "code",
   "execution_count": 47,
   "metadata": {
    "id": "GPjYz6fXSArD"
   },
   "outputs": [],
   "source": [
    "x = [\n",
    "    [1,2],\n",
    "    [1,3],\n",
    "    [2,3],\n",
    "    [2,4],\n",
    "    [3,2],\n",
    "    [3,5],\n",
    "    [4,1],\n",
    "    #A partir de aqui es relleno para el mini-batch\n",
    "    [1,2],\n",
    "    [1,3],\n",
    "    [2,3],\n",
    "    [2,4],\n",
    "    [3,2],\n",
    "    [3,5],\n",
    "    [4,1]\n",
    "]\n",
    "y = [1.03,-1.44,4.53,2.24,13.27,5.62,21.53,#A partir de aqui es relleno para el mini-batch\n",
    "     1.03,-1.44,4.53,2.24,13.27,5.62,21.53]"
   ]
  },
  {
   "cell_type": "code",
   "execution_count": 48,
   "metadata": {
    "id": "RprMFZ13UX1p"
   },
   "outputs": [],
   "source": [
    "def signo(x):\n",
    "  if x>=0:\n",
    "    return 1\n",
    "  else:\n",
    "    return -1"
   ]
  },
  {
   "cell_type": "code",
   "execution_count": 49,
   "metadata": {
    "id": "SrN7Rr5YXJq4"
   },
   "outputs": [],
   "source": [
    "def predict(modelo,x):\n",
    "  if type(x[0]) == list:\n",
    "    pred_v = []\n",
    "    for x_it in x:\n",
    "      pred = modelo[len(modelo)-1]\n",
    "      for i in range(len(modelo)-1):\n",
    "        pred+= modelo[i]*x_it[i]\n",
    "      pred_v.append(pred)\n",
    "    return pred_v\n",
    "  else:\n",
    "    pred = modelo[len(modelo)-1]\n",
    "    for i in range(len(modelo)-1):\n",
    "      pred+= modelo[i]*x[i]\n",
    "\n",
    "    return pred\n",
    "\n",
    "def MAE(modelo,x,y):\n",
    "  pred = predict(modelo,x)\n",
    "  errs =[e1 - e2 for e1, e2 in zip(y,pred)]\n",
    "  abs_v = [abs(ele) for ele in errs]\n",
    "\n",
    "  return mean(abs_v)\n",
    "def MSE(modelo,x,y):\n",
    "  pred = predict(modelo,x)\n",
    "  errs =[e1 - e2 for e1, e2 in zip(y,pred)]\n",
    "  squ_v = [(ele)**2 for ele in errs]\n",
    "\n",
    "  return mean(squ_v)\n",
    "\n",
    "def MSE_GRAD(modelo,x,errs,w_it,l_rate):\n",
    "  if w_it < len(modelo)-1:\n",
    "        #len(modelo)-1 porque el último peso es el sesgo y se ajusta\n",
    "        #de forma distinta\n",
    "        #Aqui se ajustan todos los pesos menos el bias\n",
    "\n",
    "        #Cálculo del Σ((Ŷ-Y)*Xji)\n",
    "        for er in range(len(errs)):\n",
    "          errs[er]= errs[er]*x[er][w_it]\n",
    "        modelo[w_it] = modelo[w_it]-1*(2*l_rate)*mean(errs)\n",
    "\n",
    "  else:\n",
    "    #Aqui se ajusta el bias\n",
    "    modelo[w_it] = modelo[w_it] -1*(2*l_rate*mean(errs) )\n",
    "\n",
    "def MAE_GRAD(modelo,x,errs,w_it,l_rate):\n",
    "  if w_it < len(modelo)-1:\n",
    "        for er in range(len(errs)):\n",
    "          errs[er]= signo(errs[er])*x[er][w_it]\n",
    "        modelo[w_it] = modelo[w_it]-1*(l_rate)*mean(errs)\n",
    "        #Aqui se ajusta el bias\n",
    "  else:\n",
    "    errs = [signo(x) for x in errs]\n",
    "    modelo[w_it] = modelo[w_it] -1*(l_rate*mean(errs) )"
   ]
  },
  {
   "cell_type": "code",
   "execution_count": 50,
   "metadata": {
    "colab": {
     "base_uri": "https://localhost:8080/"
    },
    "id": "c0Z0bkFcYEOS",
    "outputId": "1ca9e94f-beff-417b-f747-63518c61027c"
   },
   "outputs": [
    {
     "data": {
      "text/plain": [
       "[4, 5, 6, 7, 6, 9, 6, 4, 5, 6, 7, 6, 9, 6]"
      ]
     },
     "execution_count": 50,
     "metadata": {},
     "output_type": "execute_result"
    }
   ],
   "source": [
    "predict([1,1,1],x)"
   ]
  },
  {
   "cell_type": "code",
   "execution_count": 51,
   "metadata": {
    "id": "wmRWBWArTNAP"
   },
   "outputs": [],
   "source": [
    "modelo = [0,0,0]\n",
    "#[x1,x2,b]"
   ]
  },
  {
   "cell_type": "code",
   "execution_count": 52,
   "metadata": {
    "id": "I2A-9VCFg_eJ"
   },
   "outputs": [],
   "source": [
    "def generate_mini_batch(x, y, batch_percentage):\n",
    "  tam_mini_batch = math.trunc(len(x)*batch_percentage)\n",
    "  mini_batch_x = []\n",
    "  mini_batch_y = []\n",
    "  x_copy = x.copy()\n",
    "  y_copy = y.copy()\n",
    "\n",
    "  while len(x_copy)>0:\n",
    "    it_mini_batchx = []\n",
    "    it_mini_batchy = []\n",
    "    while len(it_mini_batchx)<tam_mini_batch:\n",
    "      index = random.randint(0,len(x_copy)-1)\n",
    "      it_mini_batchx.append(x_copy[index])\n",
    "      it_mini_batchy.append(y_copy[index])\n",
    "      x_copy.pop(index)\n",
    "      y_copy.pop(index)\n",
    "    mini_batch_x.append(it_mini_batchx)\n",
    "    mini_batch_y.append(it_mini_batchy)\n",
    "\n",
    "  return mini_batch_x,mini_batch_y\n"
   ]
  },
  {
   "cell_type": "code",
   "execution_count": 53,
   "metadata": {
    "id": "jwEvdyNvT0E-"
   },
   "outputs": [],
   "source": [
    "def linear_regression(modelo,x,y,n_it,l_rate,func_ajuste, minibatch_mode, batch_percentage=None):\n",
    "  for _ in range(n_it):\n",
    "    if not minibatch_mode:\n",
    "      errs = []\n",
    "      pred = predict(modelo,x)\n",
    "      errs = [e1 - e2 for e1, e2 in zip(pred,y)]\n",
    "\n",
    "      for w_it in range(len(modelo)):\n",
    "        errs_it = errs.copy()\n",
    "        func_ajuste(modelo,x,errs_it,w_it,l_rate)\n",
    "    else:\n",
    "      batch_x, batch_y = generate_mini_batch(x, y, batch_percentage)\n",
    "      for a, b in zip(batch_x, batch_y):\n",
    "        errs = []\n",
    "        pred = predict(modelo,a)\n",
    "        errs = [e1 - e2 for e1, e2 in zip(pred,b)]\n",
    "\n",
    "        for w_it in range(len(modelo)):\n",
    "          errs_it = errs.copy()\n",
    "          func_ajuste(modelo,a,errs_it,w_it,l_rate)\n",
    "  return modelo"
   ]
  },
  {
   "cell_type": "code",
   "execution_count": 54,
   "metadata": {
    "id": "7wrIZ0WTcXi3"
   },
   "outputs": [
    {
     "name": "stdout",
     "output_type": "stream",
     "text": [
      "Ajuste usando batch\n",
      "Ajuste con MSE\n",
      "Error inicial ->  54.367314285714286\n",
      "Error final ->  0.008417023656379178\n",
      "[6.007147684087246, -2.489069952946704, 0.06976974256473045]\n",
      "\n",
      "Ajuste con MAE\n",
      "Error inicial ->  5.974285714285714\n",
      "Error final ->  0.05959183673453323\n",
      "[6.008285714285928, -2.4745714285724416, -0.02685714285709419]\n",
      "\n",
      "Ajuste usando minibatch\n",
      "Ajuste con MSE\n",
      "Error inicial ->  54.367314285714286\n",
      "Error final ->  0.007876923812927226\n",
      "[6.024145968409835, -2.4749678551762897, -0.015348173836863337]\n",
      "\n",
      "Ajuste con MAE\n",
      "Error inicial ->  5.974285714285714\n",
      "Error final ->  0.0611428571428085\n",
      "[6.0060000000001885, -2.471999999999994, -0.0280000000000009]\n"
     ]
    }
   ],
   "source": [
    "# Ajuste usando batch\n",
    "\n",
    "print(\"Ajuste usando batch\")\n",
    "\n",
    "modelo = [1,1,1]\n",
    "print('Ajuste con MSE')\n",
    "print('Error inicial -> ',MSE(modelo,x,y))\n",
    "linear_regression(modelo,x,y,20000,0.001,MSE_GRAD, False)\n",
    "print('Error final -> ',MSE(modelo,x,y))\n",
    "print(modelo)\n",
    "\n",
    "modelo = [1,1,1]\n",
    "print('\\nAjuste con MAE')\n",
    "print('Error inicial -> ',MAE(modelo,x,y))\n",
    "linear_regression(modelo,x,y,20000,0.001,MAE_GRAD, False)\n",
    "print('Error final -> ',MAE(modelo,x,y))\n",
    "print(modelo)\n",
    "\n",
    "# Ajuste usando minibatch\n",
    "\n",
    "print(\"\\nAjuste usando minibatch\")\n",
    "modelo = [1,1,1]\n",
    "print('Ajuste con MSE')\n",
    "print('Error inicial -> ',MSE(modelo,x,y))\n",
    "linear_regression(modelo,x,y,20000,0.001,MSE_GRAD, True, 0.2)\n",
    "print('Error final -> ',MSE(modelo,x,y))\n",
    "print(modelo)\n",
    "\n",
    "modelo = [1,1,1]\n",
    "print('\\nAjuste con MAE')\n",
    "print('Error inicial -> ',MAE(modelo,x,y))\n",
    "linear_regression(modelo,x,y,20000,0.001,MAE_GRAD, True, 0.2)\n",
    "print('Error final -> ',MAE(modelo,x,y))\n",
    "print(modelo)"
   ]
  },
  {
   "cell_type": "markdown",
   "metadata": {
    "id": "xsafXViEg_eK"
   },
   "source": [
    "Transformación del dataset a arrays para que el regresor pueda trabajar con él"
   ]
  },
  {
   "cell_type": "code",
   "execution_count": 64,
   "metadata": {
    "id": "zsexTSSg1sHV"
   },
   "outputs": [],
   "source": [
    "data = pd.read_csv('diabetes.tab.csv',delimiter='\\t')\n",
    "def from_dataset_to_arrays(data):\n",
    "  Y = data['Y']\n",
    "  y = list(Y.values)\n",
    "  data = data.drop(columns='Y')\n",
    "  x = list(data.values)\n",
    "  for a in range(len(x)):\n",
    "    b = list(x[a])\n",
    "    x[a] = b\n",
    "\n",
    "  return x,y\n",
    "x,y = from_dataset_to_arrays(data)"
   ]
  },
  {
   "cell_type": "markdown",
   "metadata": {
    "id": "dS4zl4ozhO7J"
   },
   "source": [
    "Nota, aquí si no se utiliza un learning rate pequeño no minimiza bien el error"
   ]
  },
  {
   "cell_type": "code",
   "execution_count": 56,
   "metadata": {
    "colab": {
     "base_uri": "https://localhost:8080/"
    },
    "id": "cYq5eqHlg_eL",
    "outputId": "c2c34448-9070-487d-e821-2b5464935403"
   },
   "outputs": [
    {
     "name": "stdout",
     "output_type": "stream",
     "text": [
      "Ajuste con MSE\n",
      "Error inicial ->  382.9552796380091\n",
      "Error final ->  48.393446813220216\n",
      "[0.07030802107505571, 0.8827730952889558, 2.4411874047918083, 1.322476492603066, 0.7695117138994386, -0.8042184550388163, -2.1126486628086543, 1.1697634845580862, 1.1286781368133523, 0.9798303009665654]\n"
     ]
    }
   ],
   "source": [
    "modelo = []\n",
    "for i in range(len(x[0])):\n",
    "  modelo.append(1)\n",
    "print('Ajuste con MSE')\n",
    "print('Error inicial -> ',MAE(modelo,x,y))\n",
    "modelo =linear_regression(modelo,x,y,1000,0.00001,MSE_GRAD,False)\n",
    "print('Error final -> ',MAE(modelo,x,y))\n",
    "print(modelo)"
   ]
  },
  {
   "cell_type": "code",
   "execution_count": 65,
   "metadata": {
    "id": "t07dHtzFhLu1"
   },
   "outputs": [
    {
     "name": "stdout",
     "output_type": "stream",
     "text": [
      "Ajuste con MSE\n",
      "Error cuadrático ->  2859.6963475867506\n",
      "Error absoluto ->  43.27745202531506\n",
      "[[-3.63612242e-02 -2.28596481e+01  5.60296209e+00  1.11680799e+00\n",
      " -1.08999633e+00  7.46450456e-01  3.72004715e-01  6.53383194e+00\n",
      "  6.84831250e+01  2.80116989e-01] -334.5671385187875]\n",
      "Ajuste con MSE\n",
      "Error cuadrático ->  2859.905871794044\n",
      "Error absoluto ->  43.281810947763795\n",
      "[[-3.45188928e-02 -2.27328488e+01  5.62238113e+00  1.11798101e+00\n",
      " -9.98836555e-01  6.62441515e-01  2.71053259e-01  6.38744353e+00\n",
      "  6.57240221e+01  2.84108214e-01] -324.94604339202476]\n"
     ]
    }
   ],
   "source": [
    "#Regresión lineal optimizando con el error cuadrático\n",
    "reg = linear_model.LinearRegression()\n",
    "reg.fit(x, y)\n",
    "prediction = reg.predict(x)\n",
    "\n",
    "print('Ajuste con MSE')\n",
    "print('Error cuadrático -> ',mean_squared_error(y, prediction))\n",
    "print('Error absoluto -> ', mean_absolute_error(y, prediction))\n",
    "print(f'[{reg.coef_} {reg.intercept_}]')\n",
    "\n",
    "#Regresión lineal optimizando con el error ridge\n",
    "reg = linear_model.Ridge(alpha=0.5)\n",
    "reg.fit(x, y)\n",
    "prediction = reg.predict(x)\n",
    "\n",
    "print('\\nAjuste con Ridge')\n",
    "print('Error cuadrático -> ',mean_squared_error(y, prediction))\n",
    "print('Error absoluto -> ', mean_absolute_error(y, prediction))\n",
    "print(f'[{reg.coef_} {reg.intercept_}]')"
   ]
  }
 ],
 "metadata": {
  "colab": {
   "provenance": []
  },
  "kernelspec": {
   "display_name": "Python 3 (ipykernel)",
   "language": "python",
   "name": "python3"
  },
  "language_info": {
   "codemirror_mode": {
    "name": "ipython",
    "version": 3
   },
   "file_extension": ".py",
   "mimetype": "text/x-python",
   "name": "python",
   "nbconvert_exporter": "python",
   "pygments_lexer": "ipython3",
   "version": "3.10.12"
  }
 },
 "nbformat": 4,
 "nbformat_minor": 1
}
