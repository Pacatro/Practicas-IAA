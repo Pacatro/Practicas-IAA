{
 "cells": [
  {
   "cell_type": "code",
   "execution_count": 5,
   "metadata": {
    "id": "XVUBzprJR5d0"
   },
   "outputs": [],
   "source": [
    "import numpy as np\n",
    "import pandas as pd\n",
    "import datetime\n",
    "import math\n",
    "import random\n",
    "from datetime import datetime\n",
    "from statistics import mean\n",
    "from sklearn import linear_model"
   ]
  },
  {
   "cell_type": "code",
   "execution_count": 6,
   "metadata": {
    "id": "GPjYz6fXSArD"
   },
   "outputs": [],
   "source": [
    "x = [\n",
    "    [1,2],\n",
    "    [1,3],\n",
    "    [2,3],\n",
    "    [2,4],\n",
    "    [3,2],\n",
    "    [3,5],\n",
    "    [4,1],\n",
    "    #A partir de aqui es relleno para el mini-batch\n",
    "    [1,2],\n",
    "    [1,3],\n",
    "    [2,3],\n",
    "    [2,4],\n",
    "    [3,2],\n",
    "    [3,5],\n",
    "    [4,1]\n",
    "]\n",
    "y = [1.03,-1.44,4.53,2.24,13.27,5.62,21.53,#A partir de aqui es relleno para el mini-batch\n",
    "     1.03,-1.44,4.53,2.24,13.27,5.62,21.53]"
   ]
  },
  {
   "cell_type": "code",
   "execution_count": 7,
   "metadata": {
    "id": "RprMFZ13UX1p"
   },
   "outputs": [],
   "source": [
    "def signo(x):\n",
    "  if x>=0:\n",
    "    return 1\n",
    "  else:\n",
    "    return -1"
   ]
  },
  {
   "cell_type": "code",
   "execution_count": 8,
   "metadata": {
    "id": "SrN7Rr5YXJq4"
   },
   "outputs": [],
   "source": [
    "def predict(modelo,x):\n",
    "  if type(x[0]) == list:\n",
    "    pred_v = []\n",
    "    for x_it in x:\n",
    "      pred = modelo[len(modelo)-1]\n",
    "      for i in range(len(modelo)-1):\n",
    "        pred+= modelo[i]*x_it[i]\n",
    "      pred_v.append(pred)\n",
    "    return pred_v\n",
    "  else:\n",
    "    pred = modelo[len(modelo)-1]\n",
    "    for i in range(len(modelo)-1):\n",
    "      pred+= modelo[i]*x[i]\n",
    "\n",
    "    return pred\n",
    "\n",
    "def MAE(modelo,x,y):\n",
    "  pred = predict(modelo,x)\n",
    "  errs =[e1 - e2 for e1, e2 in zip(y,pred)]\n",
    "  abs_v = [abs(ele) for ele in errs]\n",
    "\n",
    "  return mean(abs_v)\n",
    "def MSE(modelo,x,y):\n",
    "  pred = predict(modelo,x)\n",
    "  errs =[e1 - e2 for e1, e2 in zip(y,pred)]\n",
    "  squ_v = [(ele)**2 for ele in errs]\n",
    "\n",
    "  return mean(squ_v)\n",
    "\n",
    "def MSE_GRAD(modelo,x,errs,w_it,l_rate):\n",
    "  if w_it < len(modelo)-1:\n",
    "        #len(modelo)-1 porque el último peso es el sesgo y se ajusta\n",
    "        #de forma distinta\n",
    "        #Aqui se ajustan todos los pesos menos el bias\n",
    "\n",
    "        #Cálculo del Σ((Ŷ-Y)*Xji)\n",
    "        for er in range(len(errs)):\n",
    "          errs[er]= errs[er]*x[er][w_it]\n",
    "        modelo[w_it] = modelo[w_it]-1*(2*l_rate)*mean(errs)\n",
    "\n",
    "  else:\n",
    "    #Aqui se ajusta el bias\n",
    "    modelo[w_it] = modelo[w_it] -1*(2*l_rate*mean(errs) )\n",
    "\n",
    "def MAE_GRAD(modelo,x,errs,w_it,l_rate):\n",
    "  if w_it < len(modelo)-1:\n",
    "        for er in range(len(errs)):\n",
    "          errs[er]= signo(errs[er])*x[er][w_it]\n",
    "        modelo[w_it] = modelo[w_it]-1*(l_rate)*mean(errs)\n",
    "        #Aqui se ajusta el bias\n",
    "  else:\n",
    "    errs = [signo(x) for x in errs]\n",
    "    modelo[w_it] = modelo[w_it] -1*(l_rate*mean(errs) )"
   ]
  },
  {
   "cell_type": "code",
   "execution_count": 9,
   "metadata": {
    "colab": {
     "base_uri": "https://localhost:8080/"
    },
    "id": "c0Z0bkFcYEOS",
    "outputId": "1ca9e94f-beff-417b-f747-63518c61027c"
   },
   "outputs": [
    {
     "data": {
      "text/plain": [
       "[4, 5, 6, 7, 6, 9, 6, 4, 5, 6, 7, 6, 9, 6]"
      ]
     },
     "execution_count": 9,
     "metadata": {},
     "output_type": "execute_result"
    }
   ],
   "source": [
    "predict([1,1,1],x)"
   ]
  },
  {
   "cell_type": "code",
   "execution_count": 10,
   "metadata": {
    "id": "wmRWBWArTNAP"
   },
   "outputs": [],
   "source": [
    "modelo = [0,0,0]\n",
    "#[x1,x2,b]"
   ]
  },
  {
   "cell_type": "code",
   "execution_count": 11,
   "metadata": {
    "id": "I2A-9VCFg_eJ"
   },
   "outputs": [],
   "source": [
    "def generate_mini_batch(x, y, batch_percentage):\n",
    "  tam_mini_batch = math.trunc(len(x)*batch_percentage)\n",
    "  mini_batch_x = []\n",
    "  mini_batch_y = []\n",
    "  x_copy = x.copy()\n",
    "  y_copy = y.copy()\n",
    "\n",
    "  while len(x_copy)>0:\n",
    "    it_mini_batchx = []\n",
    "    it_mini_batchy = []\n",
    "    while len(it_mini_batchx)<tam_mini_batch:\n",
    "      index = random.randint(0,len(x_copy)-1)\n",
    "      it_mini_batchx.append(x_copy[index])\n",
    "      it_mini_batchy.append(y_copy[index])\n",
    "      x_copy.pop(index)\n",
    "      y_copy.pop(index)\n",
    "    mini_batch_x.append(it_mini_batchx)\n",
    "    mini_batch_y.append(it_mini_batchy)\n",
    "\n",
    "  return mini_batch_x,mini_batch_y\n"
   ]
  },
  {
   "cell_type": "code",
   "execution_count": 12,
   "metadata": {
    "id": "jwEvdyNvT0E-"
   },
   "outputs": [],
   "source": [
    "def linear_regression(modelo,x,y,n_it,l_rate,func_ajuste, minibatch_mode, batch_percentage=None):\n",
    "  for _ in range(n_it):\n",
    "    if not minibatch_mode:\n",
    "      errs = []\n",
    "      pred = predict(modelo,x)\n",
    "      errs = [e1 - e2 for e1, e2 in zip(pred,y)]\n",
    "\n",
    "      for w_it in range(len(modelo)):\n",
    "        errs_it = errs.copy()\n",
    "        func_ajuste(modelo,x,errs_it,w_it,l_rate)\n",
    "    else:\n",
    "      batch_x, batch_y = generate_mini_batch(x, y, batch_percentage)\n",
    "      for a, b in zip(batch_x, batch_y):\n",
    "        errs = []\n",
    "        pred = predict(modelo,a)\n",
    "        errs = [e1 - e2 for e1, e2 in zip(pred,b)]\n",
    "\n",
    "        for w_it in range(len(modelo)):\n",
    "          errs_it = errs.copy()\n",
    "          func_ajuste(modelo,a,errs_it,w_it,l_rate)\n",
    "  return modelo"
   ]
  },
  {
   "cell_type": "code",
   "execution_count": 13,
   "metadata": {
    "id": "7wrIZ0WTcXi3"
   },
   "outputs": [
    {
     "name": "stdout",
     "output_type": "stream",
     "text": [
      "Ajuste usando batch\n",
      "Ajuste con MSE\n",
      "Error inicial ->  54.367314285714286\n",
      "Error final ->  0.008417023656379178\n",
      "[6.007147684087246, -2.489069952946704, 0.06976974256473045]\n",
      "\n",
      "Ajuste con MAE\n",
      "Error inicial ->  5.974285714285714\n",
      "Error final ->  0.05959183673453323\n",
      "[6.008285714285928, -2.4745714285724416, -0.02685714285709419]\n",
      "\n",
      "Ajuste usando minibatch\n",
      "Ajuste con MSE\n",
      "Error inicial ->  54.367314285714286\n",
      "Error final ->  0.007877000423875066\n",
      "[6.024202916706965, -2.474892028683118, -0.015306286927502773]\n",
      "\n",
      "Ajuste con MAE\n",
      "Error inicial ->  5.974285714285714\n",
      "Error final ->  0.060285714285817936\n",
      "[6.010000000000454, -2.474999999999909, -0.0320000000000009]\n"
     ]
    }
   ],
   "source": [
    "# Ajuste usando batch\n",
    "\n",
    "print(\"Ajuste usando batch\")\n",
    "\n",
    "modelo = [1,1,1]\n",
    "print('Ajuste con MSE')\n",
    "print('Error inicial -> ',MSE(modelo,x,y))\n",
    "linear_regression(modelo,x,y,20000,0.001,MSE_GRAD, False)\n",
    "print('Error final -> ',MSE(modelo,x,y))\n",
    "print(modelo)\n",
    "\n",
    "modelo = [1,1,1]\n",
    "print('\\nAjuste con MAE')\n",
    "print('Error inicial -> ',MAE(modelo,x,y))\n",
    "linear_regression(modelo,x,y,20000,0.001,MAE_GRAD, False)\n",
    "print('Error final -> ',MAE(modelo,x,y))\n",
    "print(modelo)\n",
    "\n",
    "# Ajuste usando minibatch\n",
    "\n",
    "print(\"\\nAjuste usando minibatch\")\n",
    "modelo = [1,1,1]\n",
    "print('Ajuste con MSE')\n",
    "print('Error inicial -> ',MSE(modelo,x,y))\n",
    "linear_regression(modelo,x,y,20000,0.001,MSE_GRAD, True, 0.2)\n",
    "print('Error final -> ',MSE(modelo,x,y))\n",
    "print(modelo)\n",
    "\n",
    "modelo = [1,1,1]\n",
    "print('\\nAjuste con MAE')\n",
    "print('Error inicial -> ',MAE(modelo,x,y))\n",
    "linear_regression(modelo,x,y,20000,0.001,MAE_GRAD, True, 0.2)\n",
    "print('Error final -> ',MAE(modelo,x,y))\n",
    "print(modelo)"
   ]
  },
  {
   "cell_type": "markdown",
   "metadata": {
    "id": "xsafXViEg_eK"
   },
   "source": [
    "Transformación del dataset a arrays para que el regresor pueda trabajar con él"
   ]
  },
  {
   "cell_type": "code",
   "execution_count": 14,
   "metadata": {
    "id": "zsexTSSg1sHV"
   },
   "outputs": [
    {
     "ename": "FileNotFoundError",
     "evalue": "[Errno 2] No such file or directory: 'diabetes.tab.csv'",
     "output_type": "error",
     "traceback": [
      "\u001b[0;31m---------------------------------------------------------------------------\u001b[0m",
      "\u001b[0;31mFileNotFoundError\u001b[0m                         Traceback (most recent call last)",
      "Cell \u001b[0;32mIn[14], line 1\u001b[0m\n\u001b[0;32m----> 1\u001b[0m data \u001b[38;5;241m=\u001b[39m \u001b[43mpd\u001b[49m\u001b[38;5;241;43m.\u001b[39;49m\u001b[43mread_csv\u001b[49m\u001b[43m(\u001b[49m\u001b[38;5;124;43m'\u001b[39;49m\u001b[38;5;124;43mdiabetes.tab.csv\u001b[39;49m\u001b[38;5;124;43m'\u001b[39;49m\u001b[43m,\u001b[49m\u001b[43mdelimiter\u001b[49m\u001b[38;5;241;43m=\u001b[39;49m\u001b[38;5;124;43m'\u001b[39;49m\u001b[38;5;130;43;01m\\t\u001b[39;49;00m\u001b[38;5;124;43m'\u001b[39;49m\u001b[43m)\u001b[49m\n\u001b[1;32m      2\u001b[0m \u001b[38;5;28;01mdef\u001b[39;00m \u001b[38;5;21mfrom_dataset_to_arrays\u001b[39m(data):\n\u001b[1;32m      3\u001b[0m   Y \u001b[38;5;241m=\u001b[39m data[\u001b[38;5;124m'\u001b[39m\u001b[38;5;124mY\u001b[39m\u001b[38;5;124m'\u001b[39m]\n",
      "File \u001b[0;32m~/Escritorio/practicasiaa/p2/venv/lib/python3.10/site-packages/pandas/io/parsers/readers.py:1026\u001b[0m, in \u001b[0;36mread_csv\u001b[0;34m(filepath_or_buffer, sep, delimiter, header, names, index_col, usecols, dtype, engine, converters, true_values, false_values, skipinitialspace, skiprows, skipfooter, nrows, na_values, keep_default_na, na_filter, verbose, skip_blank_lines, parse_dates, infer_datetime_format, keep_date_col, date_parser, date_format, dayfirst, cache_dates, iterator, chunksize, compression, thousands, decimal, lineterminator, quotechar, quoting, doublequote, escapechar, comment, encoding, encoding_errors, dialect, on_bad_lines, delim_whitespace, low_memory, memory_map, float_precision, storage_options, dtype_backend)\u001b[0m\n\u001b[1;32m   1013\u001b[0m kwds_defaults \u001b[38;5;241m=\u001b[39m _refine_defaults_read(\n\u001b[1;32m   1014\u001b[0m     dialect,\n\u001b[1;32m   1015\u001b[0m     delimiter,\n\u001b[0;32m   (...)\u001b[0m\n\u001b[1;32m   1022\u001b[0m     dtype_backend\u001b[38;5;241m=\u001b[39mdtype_backend,\n\u001b[1;32m   1023\u001b[0m )\n\u001b[1;32m   1024\u001b[0m kwds\u001b[38;5;241m.\u001b[39mupdate(kwds_defaults)\n\u001b[0;32m-> 1026\u001b[0m \u001b[38;5;28;01mreturn\u001b[39;00m \u001b[43m_read\u001b[49m\u001b[43m(\u001b[49m\u001b[43mfilepath_or_buffer\u001b[49m\u001b[43m,\u001b[49m\u001b[43m \u001b[49m\u001b[43mkwds\u001b[49m\u001b[43m)\u001b[49m\n",
      "File \u001b[0;32m~/Escritorio/practicasiaa/p2/venv/lib/python3.10/site-packages/pandas/io/parsers/readers.py:620\u001b[0m, in \u001b[0;36m_read\u001b[0;34m(filepath_or_buffer, kwds)\u001b[0m\n\u001b[1;32m    617\u001b[0m _validate_names(kwds\u001b[38;5;241m.\u001b[39mget(\u001b[38;5;124m\"\u001b[39m\u001b[38;5;124mnames\u001b[39m\u001b[38;5;124m\"\u001b[39m, \u001b[38;5;28;01mNone\u001b[39;00m))\n\u001b[1;32m    619\u001b[0m \u001b[38;5;66;03m# Create the parser.\u001b[39;00m\n\u001b[0;32m--> 620\u001b[0m parser \u001b[38;5;241m=\u001b[39m \u001b[43mTextFileReader\u001b[49m\u001b[43m(\u001b[49m\u001b[43mfilepath_or_buffer\u001b[49m\u001b[43m,\u001b[49m\u001b[43m \u001b[49m\u001b[38;5;241;43m*\u001b[39;49m\u001b[38;5;241;43m*\u001b[39;49m\u001b[43mkwds\u001b[49m\u001b[43m)\u001b[49m\n\u001b[1;32m    622\u001b[0m \u001b[38;5;28;01mif\u001b[39;00m chunksize \u001b[38;5;129;01mor\u001b[39;00m iterator:\n\u001b[1;32m    623\u001b[0m     \u001b[38;5;28;01mreturn\u001b[39;00m parser\n",
      "File \u001b[0;32m~/Escritorio/practicasiaa/p2/venv/lib/python3.10/site-packages/pandas/io/parsers/readers.py:1620\u001b[0m, in \u001b[0;36mTextFileReader.__init__\u001b[0;34m(self, f, engine, **kwds)\u001b[0m\n\u001b[1;32m   1617\u001b[0m     \u001b[38;5;28mself\u001b[39m\u001b[38;5;241m.\u001b[39moptions[\u001b[38;5;124m\"\u001b[39m\u001b[38;5;124mhas_index_names\u001b[39m\u001b[38;5;124m\"\u001b[39m] \u001b[38;5;241m=\u001b[39m kwds[\u001b[38;5;124m\"\u001b[39m\u001b[38;5;124mhas_index_names\u001b[39m\u001b[38;5;124m\"\u001b[39m]\n\u001b[1;32m   1619\u001b[0m \u001b[38;5;28mself\u001b[39m\u001b[38;5;241m.\u001b[39mhandles: IOHandles \u001b[38;5;241m|\u001b[39m \u001b[38;5;28;01mNone\u001b[39;00m \u001b[38;5;241m=\u001b[39m \u001b[38;5;28;01mNone\u001b[39;00m\n\u001b[0;32m-> 1620\u001b[0m \u001b[38;5;28mself\u001b[39m\u001b[38;5;241m.\u001b[39m_engine \u001b[38;5;241m=\u001b[39m \u001b[38;5;28;43mself\u001b[39;49m\u001b[38;5;241;43m.\u001b[39;49m\u001b[43m_make_engine\u001b[49m\u001b[43m(\u001b[49m\u001b[43mf\u001b[49m\u001b[43m,\u001b[49m\u001b[43m \u001b[49m\u001b[38;5;28;43mself\u001b[39;49m\u001b[38;5;241;43m.\u001b[39;49m\u001b[43mengine\u001b[49m\u001b[43m)\u001b[49m\n",
      "File \u001b[0;32m~/Escritorio/practicasiaa/p2/venv/lib/python3.10/site-packages/pandas/io/parsers/readers.py:1880\u001b[0m, in \u001b[0;36mTextFileReader._make_engine\u001b[0;34m(self, f, engine)\u001b[0m\n\u001b[1;32m   1878\u001b[0m     \u001b[38;5;28;01mif\u001b[39;00m \u001b[38;5;124m\"\u001b[39m\u001b[38;5;124mb\u001b[39m\u001b[38;5;124m\"\u001b[39m \u001b[38;5;129;01mnot\u001b[39;00m \u001b[38;5;129;01min\u001b[39;00m mode:\n\u001b[1;32m   1879\u001b[0m         mode \u001b[38;5;241m+\u001b[39m\u001b[38;5;241m=\u001b[39m \u001b[38;5;124m\"\u001b[39m\u001b[38;5;124mb\u001b[39m\u001b[38;5;124m\"\u001b[39m\n\u001b[0;32m-> 1880\u001b[0m \u001b[38;5;28mself\u001b[39m\u001b[38;5;241m.\u001b[39mhandles \u001b[38;5;241m=\u001b[39m \u001b[43mget_handle\u001b[49m\u001b[43m(\u001b[49m\n\u001b[1;32m   1881\u001b[0m \u001b[43m    \u001b[49m\u001b[43mf\u001b[49m\u001b[43m,\u001b[49m\n\u001b[1;32m   1882\u001b[0m \u001b[43m    \u001b[49m\u001b[43mmode\u001b[49m\u001b[43m,\u001b[49m\n\u001b[1;32m   1883\u001b[0m \u001b[43m    \u001b[49m\u001b[43mencoding\u001b[49m\u001b[38;5;241;43m=\u001b[39;49m\u001b[38;5;28;43mself\u001b[39;49m\u001b[38;5;241;43m.\u001b[39;49m\u001b[43moptions\u001b[49m\u001b[38;5;241;43m.\u001b[39;49m\u001b[43mget\u001b[49m\u001b[43m(\u001b[49m\u001b[38;5;124;43m\"\u001b[39;49m\u001b[38;5;124;43mencoding\u001b[39;49m\u001b[38;5;124;43m\"\u001b[39;49m\u001b[43m,\u001b[49m\u001b[43m \u001b[49m\u001b[38;5;28;43;01mNone\u001b[39;49;00m\u001b[43m)\u001b[49m\u001b[43m,\u001b[49m\n\u001b[1;32m   1884\u001b[0m \u001b[43m    \u001b[49m\u001b[43mcompression\u001b[49m\u001b[38;5;241;43m=\u001b[39;49m\u001b[38;5;28;43mself\u001b[39;49m\u001b[38;5;241;43m.\u001b[39;49m\u001b[43moptions\u001b[49m\u001b[38;5;241;43m.\u001b[39;49m\u001b[43mget\u001b[49m\u001b[43m(\u001b[49m\u001b[38;5;124;43m\"\u001b[39;49m\u001b[38;5;124;43mcompression\u001b[39;49m\u001b[38;5;124;43m\"\u001b[39;49m\u001b[43m,\u001b[49m\u001b[43m \u001b[49m\u001b[38;5;28;43;01mNone\u001b[39;49;00m\u001b[43m)\u001b[49m\u001b[43m,\u001b[49m\n\u001b[1;32m   1885\u001b[0m \u001b[43m    \u001b[49m\u001b[43mmemory_map\u001b[49m\u001b[38;5;241;43m=\u001b[39;49m\u001b[38;5;28;43mself\u001b[39;49m\u001b[38;5;241;43m.\u001b[39;49m\u001b[43moptions\u001b[49m\u001b[38;5;241;43m.\u001b[39;49m\u001b[43mget\u001b[49m\u001b[43m(\u001b[49m\u001b[38;5;124;43m\"\u001b[39;49m\u001b[38;5;124;43mmemory_map\u001b[39;49m\u001b[38;5;124;43m\"\u001b[39;49m\u001b[43m,\u001b[49m\u001b[43m \u001b[49m\u001b[38;5;28;43;01mFalse\u001b[39;49;00m\u001b[43m)\u001b[49m\u001b[43m,\u001b[49m\n\u001b[1;32m   1886\u001b[0m \u001b[43m    \u001b[49m\u001b[43mis_text\u001b[49m\u001b[38;5;241;43m=\u001b[39;49m\u001b[43mis_text\u001b[49m\u001b[43m,\u001b[49m\n\u001b[1;32m   1887\u001b[0m \u001b[43m    \u001b[49m\u001b[43merrors\u001b[49m\u001b[38;5;241;43m=\u001b[39;49m\u001b[38;5;28;43mself\u001b[39;49m\u001b[38;5;241;43m.\u001b[39;49m\u001b[43moptions\u001b[49m\u001b[38;5;241;43m.\u001b[39;49m\u001b[43mget\u001b[49m\u001b[43m(\u001b[49m\u001b[38;5;124;43m\"\u001b[39;49m\u001b[38;5;124;43mencoding_errors\u001b[39;49m\u001b[38;5;124;43m\"\u001b[39;49m\u001b[43m,\u001b[49m\u001b[43m \u001b[49m\u001b[38;5;124;43m\"\u001b[39;49m\u001b[38;5;124;43mstrict\u001b[39;49m\u001b[38;5;124;43m\"\u001b[39;49m\u001b[43m)\u001b[49m\u001b[43m,\u001b[49m\n\u001b[1;32m   1888\u001b[0m \u001b[43m    \u001b[49m\u001b[43mstorage_options\u001b[49m\u001b[38;5;241;43m=\u001b[39;49m\u001b[38;5;28;43mself\u001b[39;49m\u001b[38;5;241;43m.\u001b[39;49m\u001b[43moptions\u001b[49m\u001b[38;5;241;43m.\u001b[39;49m\u001b[43mget\u001b[49m\u001b[43m(\u001b[49m\u001b[38;5;124;43m\"\u001b[39;49m\u001b[38;5;124;43mstorage_options\u001b[39;49m\u001b[38;5;124;43m\"\u001b[39;49m\u001b[43m,\u001b[49m\u001b[43m \u001b[49m\u001b[38;5;28;43;01mNone\u001b[39;49;00m\u001b[43m)\u001b[49m\u001b[43m,\u001b[49m\n\u001b[1;32m   1889\u001b[0m \u001b[43m\u001b[49m\u001b[43m)\u001b[49m\n\u001b[1;32m   1890\u001b[0m \u001b[38;5;28;01massert\u001b[39;00m \u001b[38;5;28mself\u001b[39m\u001b[38;5;241m.\u001b[39mhandles \u001b[38;5;129;01mis\u001b[39;00m \u001b[38;5;129;01mnot\u001b[39;00m \u001b[38;5;28;01mNone\u001b[39;00m\n\u001b[1;32m   1891\u001b[0m f \u001b[38;5;241m=\u001b[39m \u001b[38;5;28mself\u001b[39m\u001b[38;5;241m.\u001b[39mhandles\u001b[38;5;241m.\u001b[39mhandle\n",
      "File \u001b[0;32m~/Escritorio/practicasiaa/p2/venv/lib/python3.10/site-packages/pandas/io/common.py:873\u001b[0m, in \u001b[0;36mget_handle\u001b[0;34m(path_or_buf, mode, encoding, compression, memory_map, is_text, errors, storage_options)\u001b[0m\n\u001b[1;32m    868\u001b[0m \u001b[38;5;28;01melif\u001b[39;00m \u001b[38;5;28misinstance\u001b[39m(handle, \u001b[38;5;28mstr\u001b[39m):\n\u001b[1;32m    869\u001b[0m     \u001b[38;5;66;03m# Check whether the filename is to be opened in binary mode.\u001b[39;00m\n\u001b[1;32m    870\u001b[0m     \u001b[38;5;66;03m# Binary mode does not support 'encoding' and 'newline'.\u001b[39;00m\n\u001b[1;32m    871\u001b[0m     \u001b[38;5;28;01mif\u001b[39;00m ioargs\u001b[38;5;241m.\u001b[39mencoding \u001b[38;5;129;01mand\u001b[39;00m \u001b[38;5;124m\"\u001b[39m\u001b[38;5;124mb\u001b[39m\u001b[38;5;124m\"\u001b[39m \u001b[38;5;129;01mnot\u001b[39;00m \u001b[38;5;129;01min\u001b[39;00m ioargs\u001b[38;5;241m.\u001b[39mmode:\n\u001b[1;32m    872\u001b[0m         \u001b[38;5;66;03m# Encoding\u001b[39;00m\n\u001b[0;32m--> 873\u001b[0m         handle \u001b[38;5;241m=\u001b[39m \u001b[38;5;28;43mopen\u001b[39;49m\u001b[43m(\u001b[49m\n\u001b[1;32m    874\u001b[0m \u001b[43m            \u001b[49m\u001b[43mhandle\u001b[49m\u001b[43m,\u001b[49m\n\u001b[1;32m    875\u001b[0m \u001b[43m            \u001b[49m\u001b[43mioargs\u001b[49m\u001b[38;5;241;43m.\u001b[39;49m\u001b[43mmode\u001b[49m\u001b[43m,\u001b[49m\n\u001b[1;32m    876\u001b[0m \u001b[43m            \u001b[49m\u001b[43mencoding\u001b[49m\u001b[38;5;241;43m=\u001b[39;49m\u001b[43mioargs\u001b[49m\u001b[38;5;241;43m.\u001b[39;49m\u001b[43mencoding\u001b[49m\u001b[43m,\u001b[49m\n\u001b[1;32m    877\u001b[0m \u001b[43m            \u001b[49m\u001b[43merrors\u001b[49m\u001b[38;5;241;43m=\u001b[39;49m\u001b[43merrors\u001b[49m\u001b[43m,\u001b[49m\n\u001b[1;32m    878\u001b[0m \u001b[43m            \u001b[49m\u001b[43mnewline\u001b[49m\u001b[38;5;241;43m=\u001b[39;49m\u001b[38;5;124;43m\"\u001b[39;49m\u001b[38;5;124;43m\"\u001b[39;49m\u001b[43m,\u001b[49m\n\u001b[1;32m    879\u001b[0m \u001b[43m        \u001b[49m\u001b[43m)\u001b[49m\n\u001b[1;32m    880\u001b[0m     \u001b[38;5;28;01melse\u001b[39;00m:\n\u001b[1;32m    881\u001b[0m         \u001b[38;5;66;03m# Binary mode\u001b[39;00m\n\u001b[1;32m    882\u001b[0m         handle \u001b[38;5;241m=\u001b[39m \u001b[38;5;28mopen\u001b[39m(handle, ioargs\u001b[38;5;241m.\u001b[39mmode)\n",
      "\u001b[0;31mFileNotFoundError\u001b[0m: [Errno 2] No such file or directory: 'diabetes.tab.csv'"
     ]
    }
   ],
   "source": [
    "data = pd.read_csv('diabetes.tab.csv',delimiter='\\t')\n",
    "def from_dataset_to_arrays(data):\n",
    "  Y = data['Y']\n",
    "  y = list(Y.values)\n",
    "  data = data.drop(columns='Y')\n",
    "  x = list(data.values)\n",
    "  for a in range(len(x)):\n",
    "    b = list(x[a])\n",
    "    x[a] = b\n",
    "\n",
    "  return x,y\n",
    "x,y = from_dataset_to_arrays(data)"
   ]
  },
  {
   "cell_type": "markdown",
   "metadata": {
    "id": "dS4zl4ozhO7J"
   },
   "source": [
    "Nota, aquí si no se utiliza un learning rate pequeño no minimiza bien el error"
   ]
  },
  {
   "cell_type": "code",
   "execution_count": null,
   "metadata": {
    "colab": {
     "base_uri": "https://localhost:8080/"
    },
    "id": "cYq5eqHlg_eL",
    "outputId": "c2c34448-9070-487d-e821-2b5464935403"
   },
   "outputs": [
    {
     "name": "stdout",
     "output_type": "stream",
     "text": [
      "Ajuste con MSE\n",
      "Error inicial ->  382.9552796380091\n",
      "Error final ->  46.55631306348672\n",
      "[-0.09301242361673175, -0.2118347205229997, 5.170857536195489, 0.726097690015385, 1.3607173975557387, -1.5565579473985036, -2.681144560201426, 0.6958787173297917, 1.0526176919558023, 0.8364888144335826]\n"
     ]
    }
   ],
   "source": [
    "modelo = []\n",
    "for i in range(len(x[0])):\n",
    "  modelo.append(1)\n",
    "print('Ajuste con MSE')\n",
    "print('Error inicial -> ',MAE(modelo,x,y))\n",
    "modelo =linear_regression(modelo,x,y,1000,0.00001,MSE_GRAD,False)\n",
    "print('Error final -> ',MAE(modelo,x,y))\n",
    "print(modelo)"
   ]
  },
  {
   "cell_type": "code",
   "execution_count": 15,
   "metadata": {
    "id": "t07dHtzFhLu1"
   },
   "outputs": [
    {
     "name": "stdout",
     "output_type": "stream",
     "text": [
      "[[ 6.02426471 -2.47485294] -0.015882352941170907]\n"
     ]
    }
   ],
   "source": [
    "reg = linear_model.LinearRegression()\n",
    "reg.fit(x, y)\n",
    "\n",
    "print(f'[{reg.coef_} {reg.intercept_}]')\n"
   ]
  }
 ],
 "metadata": {
  "colab": {
   "provenance": []
  },
  "kernelspec": {
   "display_name": "Python 3 (ipykernel)",
   "language": "python",
   "name": "python3"
  },
  "language_info": {
   "codemirror_mode": {
    "name": "ipython",
    "version": 3
   },
   "file_extension": ".py",
   "mimetype": "text/x-python",
   "name": "python",
   "nbconvert_exporter": "python",
   "pygments_lexer": "ipython3",
   "version": "3.10.12"
  }
 },
 "nbformat": 4,
 "nbformat_minor": 1
}
