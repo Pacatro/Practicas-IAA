{
 "cells": [
  {
   "cell_type": "code",
   "execution_count": 1,
   "metadata": {
    "id": "XVUBzprJR5d0"
   },
   "outputs": [],
   "source": [
    "import numpy as np\n",
    "import pandas as pd\n",
    "import matplotlib.pyplot as plt\n",
    "import datetime\n",
    "import math\n",
    "import random\n",
    "from datetime import datetime\n",
    "from statistics import mean\n",
    "from sklearn import linear_model\n",
    "from sklearn.metrics import mean_squared_error, mean_absolute_error"
   ]
  },
  {
   "cell_type": "code",
   "execution_count": 2,
   "metadata": {
    "id": "GPjYz6fXSArD"
   },
   "outputs": [],
   "source": [
    "x = [\n",
    "    [1,2],\n",
    "    [1,3],\n",
    "    [2,3],\n",
    "    [2,4],\n",
    "    [3,2],\n",
    "    [3,5],\n",
    "    [4,1],\n",
    "    #A partir de aqui es relleno para el mini-batch\n",
    "    [1,2],\n",
    "    [1,3],\n",
    "    [2,3],\n",
    "    [2,4],\n",
    "    [3,2],\n",
    "    [3,5],\n",
    "    [4,1]\n",
    "]\n",
    "y = [1.03,-1.44,4.53,2.24,13.27,5.62,21.53,#A partir de aqui es relleno para el mini-batch\n",
    "     1.03,-1.44,4.53,2.24,13.27,5.62,21.53]"
   ]
  },
  {
   "cell_type": "code",
   "execution_count": 3,
   "metadata": {
    "id": "RprMFZ13UX1p"
   },
   "outputs": [],
   "source": [
    "def signo(x):\n",
    "  if x>=0:\n",
    "    return 1\n",
    "  else:\n",
    "    return -1"
   ]
  },
  {
   "cell_type": "code",
   "execution_count": 4,
   "metadata": {
    "id": "SrN7Rr5YXJq4"
   },
   "outputs": [],
   "source": [
    "def predict(modelo,x):\n",
    "  if type(x[0]) == list:\n",
    "    pred_v = []\n",
    "    for x_it in x:\n",
    "      pred = modelo[len(modelo)-1]\n",
    "      for i in range(len(modelo)-1):\n",
    "        pred+= modelo[i]*x_it[i]\n",
    "      pred_v.append(pred)\n",
    "    return pred_v\n",
    "  else:\n",
    "    pred = modelo[len(modelo)-1]\n",
    "    for i in range(len(modelo)-1):\n",
    "      pred+= modelo[i]*x[i]\n",
    "\n",
    "    return pred\n",
    "\n",
    "def MAE(modelo,x,y):\n",
    "  pred = predict(modelo,x)\n",
    "  errs =[e1 - e2 for e1, e2 in zip(y,pred)]\n",
    "  abs_v = [abs(ele) for ele in errs]\n",
    "\n",
    "  return mean(abs_v)\n",
    "def MSE(modelo,x,y):\n",
    "  pred = predict(modelo,x)\n",
    "  errs =[e1 - e2 for e1, e2 in zip(y,pred)]\n",
    "  squ_v = [(ele)**2 for ele in errs]\n",
    "\n",
    "  return mean(squ_v)\n",
    "\n",
    "def MSE_GRAD(modelo,x,errs,w_it,l_rate,reg_term,Lasso,Ridge):\n",
    "  if w_it < len(modelo)-1:\n",
    "        #len(modelo)-1 porque el último peso es el sesgo y se ajusta\n",
    "        #de forma distinta\n",
    "        #Aqui se ajustan todos los pesos menos el bias\n",
    "\n",
    "        #Cálculo del Σ((Ŷ-Y)*Xji)\n",
    "        for er in range(len(errs)):\n",
    "          errs[er]= errs[er]*x[er][w_it]\n",
    "        if Lasso:\n",
    "          modelo[w_it] = modelo[w_it]-1*(2*l_rate)*mean(errs)-reg_term*signo(modelo[w_it])\n",
    "        elif Ridge:\n",
    "          modelo[w_it] = modelo[w_it]-1*(2*l_rate)*mean(errs)-2*reg_term*modelo[w_it]\n",
    "        else:\n",
    "          modelo[w_it] = modelo[w_it]-1*(2*l_rate)*mean(errs)\n",
    "\n",
    "  else:\n",
    "    #Aqui se ajusta el bias\n",
    "    modelo[w_it] = modelo[w_it] -1*(2*l_rate*mean(errs) )\n",
    "\n",
    "def MAE_GRAD(modelo,x,errs,w_it,l_rate,reg_term,Lasso,Ridge):\n",
    "  if w_it < len(modelo)-1:\n",
    "        for er in range(len(errs)):\n",
    "          errs[er]= signo(errs[er])*x[er][w_it]\n",
    "        if Lasso:\n",
    "          modelo[w_it] = modelo[w_it]-1*(l_rate)*mean(errs)-reg_term*signo(modelo[w_it])\n",
    "        elif Ridge:\n",
    "          modelo[w_it] = modelo[w_it]-1*(l_rate)*mean(errs)-2*reg_term*modelo[w_it]\n",
    "        else:\n",
    "          modelo[w_it] = modelo[w_it]-1*(l_rate)*mean(errs)\n",
    "        #Aqui se ajusta el bias\n",
    "  else:\n",
    "    errs = [signo(x) for x in errs]\n",
    "    modelo[w_it] = modelo[w_it] -1*(l_rate*mean(errs) )"
   ]
  },
  {
   "cell_type": "code",
   "execution_count": 5,
   "metadata": {
    "colab": {
     "base_uri": "https://localhost:8080/"
    },
    "id": "c0Z0bkFcYEOS",
    "outputId": "1ca9e94f-beff-417b-f747-63518c61027c"
   },
   "outputs": [
    {
     "data": {
      "text/plain": [
       "[4, 5, 6, 7, 6, 9, 6, 4, 5, 6, 7, 6, 9, 6]"
      ]
     },
     "execution_count": 5,
     "metadata": {},
     "output_type": "execute_result"
    }
   ],
   "source": [
    "predict([1,1,1],x)"
   ]
  },
  {
   "cell_type": "code",
   "execution_count": 6,
   "metadata": {
    "id": "wmRWBWArTNAP"
   },
   "outputs": [],
   "source": [
    "modelo = [0,0,0]\n",
    "#[x1,x2,b]"
   ]
  },
  {
   "cell_type": "code",
   "execution_count": 7,
   "metadata": {
    "id": "I2A-9VCFg_eJ"
   },
   "outputs": [],
   "source": [
    "def generate_mini_batch(x, y, batch_percentage):\n",
    "  tam_mini_batch = math.trunc(len(x)*batch_percentage)\n",
    "  mini_batch_x = []\n",
    "  mini_batch_y = []\n",
    "  x_copy = x.copy()\n",
    "  y_copy = y.copy()\n",
    "\n",
    "  while len(x_copy)>0:\n",
    "    it_mini_batchx = []\n",
    "    it_mini_batchy = []\n",
    "    while len(it_mini_batchx)<tam_mini_batch:\n",
    "      index = random.randint(0,len(x_copy)-1)\n",
    "      it_mini_batchx.append(x_copy[index])\n",
    "      it_mini_batchy.append(y_copy[index])\n",
    "      x_copy.pop(index)\n",
    "      y_copy.pop(index)\n",
    "    mini_batch_x.append(it_mini_batchx)\n",
    "    mini_batch_y.append(it_mini_batchy)\n",
    "\n",
    "  return mini_batch_x,mini_batch_y\n"
   ]
  },
  {
   "cell_type": "code",
   "execution_count": 8,
   "metadata": {
    "id": "jwEvdyNvT0E-"
   },
   "outputs": [],
   "source": [
    "def linear_regression(modelo,x,y,n_it,l_rate,reg_term,func_ajuste, Lasso, Ridge, minibatch_mode, batch_percentage=None):\n",
    "  for _ in range(n_it):\n",
    "    if not minibatch_mode:\n",
    "      errs = []\n",
    "      pred = predict(modelo,x)\n",
    "      errs = [e1 - e2 for e1, e2 in zip(pred,y)]\n",
    "\n",
    "      for w_it in range(len(modelo)):\n",
    "        errs_it = errs.copy()\n",
    "        func_ajuste(modelo,x,errs_it,w_it,l_rate,reg_term,Lasso,Ridge)\n",
    "    else:\n",
    "      batch_x, batch_y = generate_mini_batch(x, y, batch_percentage)\n",
    "      for a, b in zip(batch_x, batch_y):\n",
    "        errs = []\n",
    "        pred = predict(modelo,a)\n",
    "        errs = [e1 - e2 for e1, e2 in zip(pred,b)]\n",
    "\n",
    "        for w_it in range(len(modelo)):\n",
    "          errs_it = errs.copy()\n",
    "          func_ajuste(modelo,a,errs_it,w_it,l_rate,reg_term,Lasso,Ridge)\n",
    "  return modelo"
   ]
  },
  {
   "cell_type": "code",
   "execution_count": 9,
   "metadata": {
    "id": "7wrIZ0WTcXi3"
   },
   "outputs": [
    {
     "name": "stdout",
     "output_type": "stream",
     "text": [
      "Ajuste usando batch\n",
      "Ajuste con MSE\n",
      "Error inicial ->  54.367314285714286\n",
      "Error final ->  0.008417023656379178\n",
      "[6.007147684087246, -2.489069952946704, 0.06976974256473045]\n",
      "\n",
      "Ajuste con MAE\n",
      "Error inicial ->  5.974285714285714\n",
      "Error final ->  0.05959183673453323\n",
      "[6.008285714285928, -2.4745714285724416, -0.02685714285709419]\n",
      "\n",
      "Ajuste usando minibatch\n",
      "Ajuste con MSE\n",
      "Error inicial ->  54.367314285714286\n",
      "Error final ->  0.007876936037131254\n",
      "[6.024076131848706, -2.4749190441904725, -0.01534535603896148]\n",
      "\n",
      "Ajuste con MAE\n",
      "Error inicial ->  5.974285714285714\n",
      "Error final ->  0.06400000000031812\n",
      "[6.010000000000267, -2.4709999999999215, -0.0280000000000009]\n"
     ]
    }
   ],
   "source": [
    "# Ajuste usando batch\n",
    "\n",
    "print(\"Ajuste usando batch\")\n",
    "\n",
    "modelo = [1,1,1]\n",
    "print('Ajuste con MSE')\n",
    "print('Error inicial -> ',MSE(modelo,x,y))\n",
    "linear_regression(modelo,x,y,20000,0.001,0,MSE_GRAD,False,False, False)\n",
    "print('Error final -> ',MSE(modelo,x,y))\n",
    "print(modelo)\n",
    "\n",
    "modelo = [1,1,1]\n",
    "print('\\nAjuste con MAE')\n",
    "print('Error inicial -> ',MAE(modelo,x,y))\n",
    "linear_regression(modelo,x,y,20000,0.001, 0, MAE_GRAD, False, False, False)\n",
    "print('Error final -> ',MAE(modelo,x,y))\n",
    "print(modelo)\n",
    "\n",
    "# Ajuste usando minibatch\n",
    "\n",
    "print(\"\\nAjuste usando minibatch\")\n",
    "modelo = [1,1,1]\n",
    "print('Ajuste con MSE')\n",
    "print('Error inicial -> ',MSE(modelo,x,y))\n",
    "linear_regression(modelo,x,y,20000,0.001,0,MSE_GRAD,False,False, True, 0.2)\n",
    "print('Error final -> ',MSE(modelo,x,y))\n",
    "print(modelo)\n",
    "\n",
    "modelo = [1,1,1]\n",
    "print('\\nAjuste con MAE')\n",
    "print('Error inicial -> ',MAE(modelo,x,y))\n",
    "linear_regression(modelo,x,y,20000,0.001,0,MAE_GRAD,False,False, True, 0.2)\n",
    "print('Error final -> ',MAE(modelo,x,y))\n",
    "print(modelo)"
   ]
  },
  {
   "cell_type": "markdown",
   "metadata": {
    "id": "xsafXViEg_eK"
   },
   "source": [
    "Transformación del dataset a arrays para que el regresor pueda trabajar con él"
   ]
  },
  {
   "cell_type": "code",
   "execution_count": 10,
   "metadata": {
    "id": "zsexTSSg1sHV"
   },
   "outputs": [],
   "source": [
    "data = pd.read_csv('diabetes.tab.csv',delimiter='\\t')\n",
    "def from_dataset_to_arrays(data):\n",
    "  Y = data['Y']\n",
    "  y = list(Y.values)\n",
    "  data = data.drop(columns='Y')\n",
    "  x = list(data.values)\n",
    "  for a in range(len(x)):\n",
    "    b = list(x[a])\n",
    "    x[a] = b\n",
    "\n",
    "  return x,y\n",
    "x,y = from_dataset_to_arrays(data)"
   ]
  },
  {
   "cell_type": "markdown",
   "metadata": {
    "id": "dS4zl4ozhO7J"
   },
   "source": [
    "Nota, aquí si no se utiliza un learning rate pequeño no minimiza bien el error"
   ]
  },
  {
   "cell_type": "code",
   "execution_count": 11,
   "metadata": {
    "colab": {
     "base_uri": "https://localhost:8080/"
    },
    "id": "cYq5eqHlg_eL",
    "outputId": "c2c34448-9070-487d-e821-2b5464935403"
   },
   "outputs": [],
   "source": [
    "modelo = []\n",
    "for i in range(len(x[0])):\n",
    "  modelo.append(1)\n",
    "# print('Ajuste con MSE')\n",
    "# print('Error inicial -> ',MAE(modelo,x,y))\n",
    "# modelo =linear_regression(modelo,x,y,1000,0.00001,MSE_GRAD,False)\n",
    "# print('Error final -> ',MAE(modelo,x,y))\n",
    "# print(modelo)"
   ]
  },
  {
   "cell_type": "code",
   "execution_count": 12,
   "metadata": {},
   "outputs": [],
   "source": [
    "def lasso_error(modelo,x,y,reg_term,error_func):\n",
    "    \n",
    "    reg_error = error_func(modelo,x,y)\n",
    "    L1=0\n",
    "    for weight in range(len(modelo)-1):\n",
    "        L1 += abs(modelo[weight])\n",
    "        \n",
    "    return reg_error + L1*reg_term\n",
    "\n",
    "def ridge_error(modelo,x,y,reg_term,error_func):\n",
    "    \n",
    "    reg_error = error_func(modelo,x,y)\n",
    "    L2=0\n",
    "    for weight in range(len(modelo)-1):\n",
    "        L2 += (modelo[weight])**2\n",
    "\n",
    "    return reg_error + L2*reg_term"
   ]
  },
  {
   "cell_type": "code",
   "execution_count": 13,
   "metadata": {},
   "outputs": [
    {
     "name": "stdout",
     "output_type": "stream",
     "text": [
      "Ajuste lasso y ridge con conjunto de datos diabetes\n",
      "\n",
      "---Ajuste lasso----\n",
      "Ajuste con MSE\n",
      "Error inicial ->  155162.06556399763\n",
      "Error final ->  6428.112395020786\n",
      "[0.010163943251526357, 0.0025245581279327257, 0.009771507878564196, 0.008396647760834012, 0.6456533737446366, -5.573579120435844e-05, 0.002199050003953748, 0.006284232170449195, 0.005815480502075072, 1.1074240660151344]\n",
      "\n",
      "Ajuste con MAE\n",
      "Error inicial ->  383.04527963800905\n",
      "Error final ->  76.80651489729917\n",
      "[0.009492760180995274, -0.003952941176472389, 0.0050464705882353736, -0.0021037918552037956, 0.44129185520360825, 0.002298552036200151, -0.0056276018099552065, 0.0061749004524881464, 0.005277526063348052, 1.1029153846153312]\n",
      "\n",
      "---Ajuste ridge:---\n",
      "Ajuste con MSE\n",
      "Error inicial ->  155162.06556399763\n",
      "Error final ->  5953.505224376461\n",
      "[0.11036905129270543, 0.0031181404370293304, 0.07199985367175278, 0.23305021036658735, 0.3799188603844185, 0.22249727387790796, 0.06531802335444661, 0.011181011569029325, 0.011406803979208652, 1.0778729982355495]\n",
      "\n",
      "Ajuste con MAE\n",
      "Error inicial ->  383.04527963800905\n",
      "Error final ->  68.38770061929958\n",
      "[0.0809389382725775, 0.0023190050002874344, 0.049082590737753604, 0.1682204025568791, 0.30061093246478965, 0.1840441516857378, 0.05703057673986401, 0.008036765727993538, 0.008254049389714878, 1.0590153846153203]\n"
     ]
    }
   ],
   "source": [
    "print('Ajuste lasso y ridge con conjunto de datos diabetes')\n",
    "\n",
    "reg_term = 0.01\n",
    "\n",
    "print('\\n---Ajuste lasso----')\n",
    "\n",
    "modelo = []\n",
    "for i in range(len(x[0])):\n",
    "  modelo.append(1)\n",
    "print('Ajuste con MSE')\n",
    "print('Error inicial -> ',lasso_error(modelo,x,y,reg_term,MSE))\n",
    "linear_regression(modelo,x,y,2000,0.000001,reg_term, MSE_GRAD, True, False, False)\n",
    "print('Error final -> ',lasso_error(modelo,x,y,reg_term,MSE))\n",
    "print(modelo)\n",
    "\n",
    "\n",
    "modelo = []\n",
    "for i in range(len(x[0])):\n",
    "  modelo.append(1)\n",
    "print('\\nAjuste con MAE')\n",
    "print('Error inicial -> ',lasso_error(modelo,x,y,reg_term,MAE))\n",
    "linear_regression(modelo,x,y,2000,0.0001,reg_term,MAE_GRAD,True,False, False)\n",
    "print('Error final -> ',lasso_error(modelo,x,y,reg_term,MAE))\n",
    "print(modelo)\n",
    "\n",
    "print('\\n---Ajuste ridge:---')\n",
    "\n",
    "modelo = []\n",
    "for i in range(len(x[0])):\n",
    "  modelo.append(1)\n",
    "print('Ajuste con MSE')\n",
    "print('Error inicial -> ',ridge_error(modelo,x,y,reg_term,MSE))\n",
    "linear_regression(modelo,x,y,2000,0.000001,reg_term, MSE_GRAD,False, True, False)\n",
    "print('Error final -> ',ridge_error(modelo,x,y,reg_term,MSE))\n",
    "print(modelo)\n",
    "\n",
    "\n",
    "modelo = []\n",
    "for i in range(len(x[0])):\n",
    "  modelo.append(1)\n",
    "print('\\nAjuste con MAE')\n",
    "print('Error inicial -> ',ridge_error(modelo,x,y,reg_term,MAE))\n",
    "linear_regression(modelo,x,y,2000,0.0001,reg_term,MAE_GRAD,False, True, False)\n",
    "print('Error final -> ',ridge_error(modelo,x,y,reg_term,MAE))\n",
    "print(modelo)"
   ]
  },
  {
   "cell_type": "code",
   "execution_count": 14,
   "metadata": {
    "id": "t07dHtzFhLu1"
   },
   "outputs": [
    {
     "name": "stdout",
     "output_type": "stream",
     "text": [
      "Ajuste con MSE\n",
      "Error cuadrático ->  2859.6963475867506\n",
      "Error absoluto ->  43.27745202531506\n",
      "[[-3.63612242e-02 -2.28596481e+01  5.60296209e+00  1.11680799e+00\n",
      " -1.08999633e+00  7.46450456e-01  3.72004715e-01  6.53383194e+00\n",
      "  6.84831250e+01  2.80116989e-01] -334.5671385187875]\n",
      "\n",
      "Ajuste con Ridge\n",
      "Error cuadrático ->  2860.471596894782\n",
      "Error absoluto ->  43.29169564350627\n",
      "[[-3.28523969e-02 -2.26070454e+01  5.64040523e+00  1.11899757e+00\n",
      " -9.14673484e-01  5.84909825e-01  1.77885238e-01  6.25044178e+00\n",
      "  6.31790809e+01  2.87766903e-01] -316.07711860428856]\n",
      "\n",
      "Ajuste con Lasso\n",
      "Error cuadrático ->  2901.5847284544093\n",
      "Error absoluto ->  43.79459928373489\n",
      "[[-1.90267115e-02 -1.74770497e+01  5.84243057e+00  1.09154258e+00\n",
      "  1.56132396e-01 -3.15203518e-01 -1.18775171e+00  1.62432746e-01\n",
      "  3.42247151e+01  3.29732281e-01] -202.30265547056504]\n"
     ]
    }
   ],
   "source": [
    "#Regresión lineal optimizando con el error cuadrático\n",
    "reg = linear_model.LinearRegression()\n",
    "reg.fit(x, y)\n",
    "prediction = reg.predict(x)\n",
    "\n",
    "print('Ajuste con MSE')\n",
    "print('Error cuadrático -> ',mean_squared_error(y, prediction))\n",
    "print('Error absoluto -> ', mean_absolute_error(y, prediction))\n",
    "print(f'[{reg.coef_} {reg.intercept_}]')\n",
    "\n",
    "#Regresión lineal optimizando con el error ridge\n",
    "reg = linear_model.Ridge()\n",
    "reg.fit(x, y)\n",
    "prediction = reg.predict(x)\n",
    "\n",
    "print('\\nAjuste con Ridge')\n",
    "print('Error cuadrático -> ',mean_squared_error(y, prediction))\n",
    "print('Error absoluto -> ', mean_absolute_error(y, prediction))\n",
    "print(f'[{reg.coef_} {reg.intercept_}]')\n",
    "\n",
    "#Regresión lineal optimizando con el error lasso\n",
    "reg = linear_model.Lasso()\n",
    "reg.fit(x, y)\n",
    "prediction = reg.predict(x)\n",
    "\n",
    "print('\\nAjuste con Lasso')\n",
    "print('Error cuadrático -> ',mean_squared_error(y, prediction))\n",
    "print('Error absoluto -> ', mean_absolute_error(y, prediction))\n",
    "print(f'[{reg.coef_} {reg.intercept_}]')"
   ]
  }
 ],
 "metadata": {
  "colab": {
   "provenance": []
  },
  "kernelspec": {
   "display_name": "Python 3 (ipykernel)",
   "language": "python",
   "name": "python3"
  },
  "language_info": {
   "codemirror_mode": {
    "name": "ipython",
    "version": 3
   },
   "file_extension": ".py",
   "mimetype": "text/x-python",
   "name": "python",
   "nbconvert_exporter": "python",
   "pygments_lexer": "ipython3",
   "version": "3.10.12"
  }
 },
 "nbformat": 4,
 "nbformat_minor": 1
}
