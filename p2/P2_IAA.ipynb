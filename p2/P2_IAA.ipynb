{
  "cells": [
    {
      "cell_type": "code",
      "execution_count": 11,
      "metadata": {
        "id": "XVUBzprJR5d0"
      },
      "outputs": [],
      "source": [
        "import numpy as np\n",
        "import pandas as pd\n",
        "import math\n",
        "import random\n",
        "import time\n",
        "from statistics import mean\n",
        "from sklearn import linear_model\n",
        "from sklearn.metrics import mean_squared_error, mean_absolute_error"
      ]
    },
    {
      "cell_type": "markdown",
      "metadata": {
        "id": "FvIg8Q3NACVv"
      },
      "source": [
        "#Definición de Dataset Inicial"
      ]
    },
    {
      "cell_type": "code",
      "execution_count": 12,
      "metadata": {
        "id": "GPjYz6fXSArD"
      },
      "outputs": [],
      "source": [
        "x = [\n",
        "    [1,2],\n",
        "    [1,3],\n",
        "    [2,3],\n",
        "    [2,4],\n",
        "    [3,2],\n",
        "    [3,5],\n",
        "    [4,1],\n",
        "    #A partir de aqui es relleno para el mini-batch\n",
        "    [1,2],\n",
        "    [1,3],\n",
        "    [2,3],\n",
        "    [2,4],\n",
        "    [3,2],\n",
        "    [3,5],\n",
        "    [4,1]\n",
        "]\n",
        "y = [1.03,-1.44,4.53,2.24,13.27,5.62,21.53,#A partir de aqui es relleno para el mini-batch\n",
        "     1.03,-1.44,4.53,2.24,13.27,5.62,21.53]"
      ]
    },
    {
      "cell_type": "markdown",
      "metadata": {
        "id": "sr-D7RHkAHJp"
      },
      "source": [
        "#Definición de métodos utilizados"
      ]
    },
    {
      "cell_type": "code",
      "execution_count": 13,
      "metadata": {
        "id": "SrN7Rr5YXJq4"
      },
      "outputs": [],
      "source": [
        "def signo(x):\n",
        "  if x>=0:\n",
        "    return 1\n",
        "  else:\n",
        "    return -1\n",
        "def predict(modelo,x):\n",
        "  if type(x[0]) == list:\n",
        "    pred_v = []\n",
        "    for x_it in x:\n",
        "      pred = modelo[len(modelo)-1]\n",
        "      for i in range(len(modelo)-1):\n",
        "        pred+= modelo[i]*x_it[i]\n",
        "      pred_v.append(pred)\n",
        "    return pred_v\n",
        "  else:\n",
        "    pred = modelo[len(modelo)-1]\n",
        "    for i in range(len(modelo)-1):\n",
        "      pred+= modelo[i]*x[i]\n",
        "\n",
        "    return pred\n",
        "\n",
        "def MAE(modelo,x,y):\n",
        "  pred = predict(modelo,x)\n",
        "  errs =[e1 - e2 for e1, e2 in zip(y,pred)]\n",
        "  abs_v = [abs(ele) for ele in errs]\n",
        "\n",
        "  return mean(abs_v)\n",
        "def MSE(modelo,x,y):\n",
        "  pred = predict(modelo,x)\n",
        "  errs =[e1 - e2 for e1, e2 in zip(y,pred)]\n",
        "  squ_v = [(ele)**2 for ele in errs]\n",
        "\n",
        "  return mean(squ_v)\n",
        "\n",
        "def MSE_GRAD(modelo,x,errs,w_it,l_rate,reg_term,Lasso,Ridge):\n",
        "  if w_it < len(modelo)-1:\n",
        "        #len(modelo)-1 porque el último peso es el sesgo y se ajusta\n",
        "        #de forma distinta\n",
        "        #Aqui se ajustan todos los pesos menos el bias\n",
        "\n",
        "        #Cálculo del Σ((Ŷ-Y)*Xji)\n",
        "        for er in range(len(errs)):\n",
        "          errs[er]= errs[er]*x[er][w_it]\n",
        "        if Lasso:\n",
        "          modelo[w_it] = modelo[w_it]-1*(2*l_rate)*mean(errs)+reg_term*signo(modelo[w_it])\n",
        "        elif Ridge:\n",
        "          modelo[w_it] = modelo[w_it]-1*(2*l_rate)*mean(errs)+2*reg_term*modelo[w_it]\n",
        "        else:\n",
        "          modelo[w_it] = modelo[w_it]-1*(2*l_rate)*mean(errs)\n",
        "\n",
        "  else:\n",
        "    #Aqui se ajusta el bias\n",
        "    modelo[w_it] = modelo[w_it] -1*(2*l_rate*mean(errs) )\n",
        "\n",
        "def MAE_GRAD(modelo,x,errs,w_it,l_rate,reg_term,Lasso,Ridge):\n",
        "  if w_it < len(modelo)-1:\n",
        "        for er in range(len(errs)):\n",
        "          errs[er]= signo(errs[er])*x[er][w_it]\n",
        "        if Lasso:\n",
        "          modelo[w_it] = modelo[w_it]-1*(l_rate)*mean(errs)+reg_term*signo(modelo[w_it])\n",
        "        elif Ridge:\n",
        "          modelo[w_it] = modelo[w_it]-1*(l_rate)*mean(errs)+2*reg_term*modelo[w_it]\n",
        "        else:\n",
        "          modelo[w_it] = modelo[w_it]-1*(l_rate)*mean(errs)\n",
        "        #Aqui se ajusta el bias\n",
        "  else:\n",
        "    errs = [signo(x) for x in errs]\n",
        "    modelo[w_it] = modelo[w_it] -1*(l_rate*mean(errs) )\n",
        "\n",
        "def generate_mini_batch(x, y, batch_percentage):\n",
        "  tam_mini_batch = math.trunc(len(x)*batch_percentage)\n",
        "  mini_batch_x = []\n",
        "  mini_batch_y = []\n",
        "  x_copy = x.copy()\n",
        "  y_copy = y.copy()\n",
        "\n",
        "  while len(x_copy)>0:\n",
        "    it_mini_batchx = []\n",
        "    it_mini_batchy = []\n",
        "    while len(it_mini_batchx)<tam_mini_batch:\n",
        "      index = random.randint(0,len(x_copy)-1)\n",
        "      it_mini_batchx.append(x_copy[index])\n",
        "      it_mini_batchy.append(y_copy[index])\n",
        "      x_copy.pop(index)\n",
        "      y_copy.pop(index)\n",
        "    mini_batch_x.append(it_mini_batchx)\n",
        "    mini_batch_y.append(it_mini_batchy)\n",
        "\n",
        "  return mini_batch_x,mini_batch_y\n",
        "\n",
        "def linear_regression(modelo,x,y,n_it,l_rate,reg_term,func_ajuste, Lasso=False, Ridge=False, minibatch_mode=False, batch_percentage=None):\n",
        "  for _ in range(n_it):\n",
        "    if not minibatch_mode:\n",
        "      errs = []\n",
        "      pred = predict(modelo,x)\n",
        "      errs = [e1 - e2 for e1, e2 in zip(pred,y)]\n",
        "\n",
        "      for w_it in range(len(modelo)):\n",
        "        errs_it = errs.copy()\n",
        "        func_ajuste(modelo,x,errs_it,w_it,l_rate,reg_term,Lasso,Ridge)\n",
        "    else:\n",
        "      batch_x, batch_y = generate_mini_batch(x, y, batch_percentage)\n",
        "      for a, b in zip(batch_x, batch_y):\n",
        "        errs = []\n",
        "        pred = predict(modelo,a)\n",
        "        errs = [e1 - e2 for e1, e2 in zip(pred,b)]\n",
        "\n",
        "        for w_it in range(len(modelo)):\n",
        "          errs_it = errs.copy()\n",
        "          func_ajuste(modelo,a,errs_it,w_it,l_rate,reg_term,Lasso,Ridge)\n",
        "  return modelo"
      ]
    },
    {
      "cell_type": "markdown",
      "metadata": {
        "id": "A1PHkT7uAfBC"
      },
      "source": [
        "#Prueba de los algoritmos de descenso del gradiente tanto con MAE como con MSE."
      ]
    },
    {
      "cell_type": "code",
      "execution_count": 14,
      "metadata": {
        "colab": {
          "base_uri": "https://localhost:8080/"
        },
        "id": "7aS3eAvAA9rb",
        "outputId": "4749f87d-7cdd-47ac-f041-06b6bf5977dd"
      },
      "outputs": [
        {
          "name": "stdout",
          "output_type": "stream",
          "text": [
            "Ajuste con MSE\n",
            "Error inicial ->  54.367314285714286\n",
            "Error final ->  0.008417023656379178\n",
            "Tiempo de ejecución -> 1604.4933795928955 ms\n",
            "[6.007147684087246, -2.489069952946704, 0.06976974256473045]\n",
            "\n",
            "Ajuste con MAE\n",
            "Error inicial ->  5.974285714285714\n",
            "Error final ->  0.05959183673453323\n",
            "Tiempo de ejecución -> 788.275957107544 ms\n",
            "[6.008285714285928, -2.4745714285724416, -0.02685714285709419]\n"
          ]
        }
      ],
      "source": [
        "modelo = [1,1,1]\n",
        "print('Ajuste con MSE')\n",
        "print('Error inicial -> ',MSE(modelo,x,y))\n",
        "start = time.time()\n",
        "linear_regression(modelo,x,y,20000,0.001,0,MSE_GRAD)\n",
        "tiempo = (time.time()-start)*1000\n",
        "print('Error final -> ',MSE(modelo,x,y))\n",
        "print(f'Tiempo de ejecución -> {tiempo} ms')\n",
        "print(modelo)\n",
        "\n",
        "modelo = [1,1,1]\n",
        "print('\\nAjuste con MAE')\n",
        "print('Error inicial -> ',MAE(modelo,x,y))\n",
        "start = time.time()\n",
        "linear_regression(modelo,x,y,20000,0.001,0, MAE_GRAD)\n",
        "tiempo = (time.time()-start)*1000\n",
        "print('Error final -> ',MAE(modelo,x,y))\n",
        "print(f'Tiempo de ejecución -> {tiempo} ms')\n",
        "print(modelo)"
      ]
    },
    {
      "cell_type": "markdown",
      "metadata": {
        "id": "r8F2jIGFA0Oo"
      },
      "source": [
        "#Prueba de los algoritmos de descenso del gradiente tanto con MAE como con MSE comparación usando el modo batch y mini batch."
      ]
    },
    {
      "cell_type": "code",
      "execution_count": 15,
      "metadata": {
        "colab": {
          "base_uri": "https://localhost:8080/"
        },
        "id": "7wrIZ0WTcXi3",
        "outputId": "3d5c9c1b-35aa-4952-ba31-1e00e2ae991c"
      },
      "outputs": [
        {
          "name": "stdout",
          "output_type": "stream",
          "text": [
            "Ajuste usando batch\n",
            "Ajuste con MSE\n",
            "Error inicial ->  54.367314285714286\n",
            "Error final ->  0.008417023656379178\n",
            "Tiempo de ejecución -> 1559.5173835754395 ms\n",
            "[6.007147684087246, -2.489069952946704, 0.06976974256473045]\n",
            "\n",
            "Ajuste con MAE\n",
            "Error inicial ->  5.974285714285714\n",
            "Error final ->  0.05959183673453323\n",
            "Tiempo de ejecución -> 755.645751953125 ms\n",
            "[6.008285714285928, -2.4745714285724416, -0.02685714285709419]\n",
            "\n",
            "Ajuste usando minibatch\n",
            "Ajuste con MSE\n",
            "Error inicial ->  54.367314285714286\n",
            "Error final ->  0.00787691882656902\n",
            "Tiempo de ejecución -> 4567.42787361145 ms\n",
            "[6.024132329511442, -2.4749093509068163, -0.015328076402732205]\n",
            "\n",
            "Ajuste con MAE\n",
            "Error inicial ->  5.974285714285714\n",
            "Error final ->  0.059571428571590666\n",
            "Tiempo de ejecución -> 3552.467107772827 ms\n",
            "[6.009000000000216, -2.4759999999998628, -0.0270000000000009]\n"
          ]
        }
      ],
      "source": [
        "# Ajuste usando batch\n",
        "\n",
        "print(\"Ajuste usando batch\")\n",
        "\n",
        "modelo = [1,1,1]\n",
        "print('Ajuste con MSE')\n",
        "print('Error inicial -> ',MSE(modelo,x,y))\n",
        "start = time.time()\n",
        "linear_regression(modelo,x,y,20000,0.001,0,MSE_GRAD,False,False, False)\n",
        "tiempo = (time.time()-start)*1000\n",
        "print('Error final -> ',MSE(modelo,x,y))\n",
        "print(f'Tiempo de ejecución -> {tiempo} ms')\n",
        "print(modelo)\n",
        "\n",
        "modelo = [1,1,1]\n",
        "print('\\nAjuste con MAE')\n",
        "print('Error inicial -> ',MAE(modelo,x,y))\n",
        "start = time.time()\n",
        "linear_regression(modelo,x,y,20000,0.001, 0, MAE_GRAD, False, False, False)\n",
        "tiempo = (time.time()-start)*1000\n",
        "print('Error final -> ',MAE(modelo,x,y))\n",
        "print(f'Tiempo de ejecución -> {tiempo} ms')\n",
        "print(modelo)\n",
        "\n",
        "# Ajuste usando minibatch\n",
        "\n",
        "print(\"\\nAjuste usando minibatch\")\n",
        "modelo = [1,1,1]\n",
        "print('Ajuste con MSE')\n",
        "print('Error inicial -> ',MSE(modelo,x,y))\n",
        "start = time.time()\n",
        "linear_regression(modelo,x,y,20000,0.001,0,MSE_GRAD,False,False, True, 0.2)\n",
        "tiempo = (time.time()-start)*1000\n",
        "print('Error final -> ',MSE(modelo,x,y))\n",
        "print(f'Tiempo de ejecución -> {tiempo} ms')\n",
        "print(modelo)\n",
        "\n",
        "modelo = [1,1,1]\n",
        "print('\\nAjuste con MAE')\n",
        "print('Error inicial -> ',MAE(modelo,x,y))\n",
        "start = time.time()\n",
        "linear_regression(modelo,x,y,20000,0.001,0,MAE_GRAD,False,False, True, 0.2)\n",
        "tiempo = (time.time()-start)*1000\n",
        "print('Error final -> ',MAE(modelo,x,y))\n",
        "print(f'Tiempo de ejecución -> {tiempo} ms')\n",
        "print(modelo)"
      ]
    },
    {
      "cell_type": "markdown",
      "metadata": {
        "id": "q5VLjmuLBbEU"
      },
      "source": [
        "#Implementación de términos de regularización L1 y L2; y su prueba con el conjunto *diabetes*"
      ]
    },
    {
      "cell_type": "markdown",
      "metadata": {
        "id": "1JAPf3evBo8q"
      },
      "source": [
        "**Importante: Para que estas celdas funcionen se debe de mover el archivo diabetes.tab.txt a la carpeta del cuaderno y cambiar la extensión de .txt a .csv, por lo que el nuevo nombre del dataset sería diabetes.tab.csv**"
      ]
    },
    {
      "cell_type": "markdown",
      "metadata": {
        "id": "xsafXViEg_eK"
      },
      "source": [
        "Transformación del dataset a arrays para que el regresor pueda trabajar con él"
      ]
    },
    {
      "cell_type": "code",
      "execution_count": 16,
      "metadata": {
        "id": "zsexTSSg1sHV"
      },
      "outputs": [],
      "source": [
        "data = pd.read_csv('diabetes.tab.csv',delimiter='\\t')\n",
        "def from_dataset_to_arrays(data):\n",
        "  Y = data['Y']\n",
        "  y = list(Y.values)\n",
        "  data = data.drop(columns='Y')\n",
        "  x = list(data.values)\n",
        "  for a in range(len(x)):\n",
        "    b = list(x[a])\n",
        "    x[a] = b\n",
        "\n",
        "  return x,y\n",
        "x,y = from_dataset_to_arrays(data)"
      ]
    },
    {
      "cell_type": "markdown",
      "metadata": {
        "id": "dS4zl4ozhO7J"
      },
      "source": [
        "Se definen las funciones de error lasso y ridge"
      ]
    },
    {
      "cell_type": "code",
      "execution_count": 17,
      "metadata": {
        "id": "cqXPOQq9_XQU"
      },
      "outputs": [],
      "source": [
        "def lasso_error(modelo,x,y,reg_term,error_func):\n",
        "\n",
        "    reg_error = error_func(modelo,x,y)\n",
        "    L1=0\n",
        "    for weight in range(len(modelo)-1):\n",
        "        L1 += abs(modelo[weight])\n",
        "\n",
        "    return reg_error + L1*reg_term\n",
        "\n",
        "def ridge_error(modelo,x,y,reg_term,error_func):\n",
        "\n",
        "    reg_error = error_func(modelo,x,y)\n",
        "    L2=0\n",
        "    for weight in range(len(modelo)-1):\n",
        "        L2 += (modelo[weight])**2\n",
        "\n",
        "    return reg_error + L2*reg_term"
      ]
    },
    {
      "cell_type": "code",
      "execution_count": 18,
      "metadata": {
        "colab": {
          "base_uri": "https://localhost:8080/"
        },
        "id": "2W4YqOJz_XQU",
        "outputId": "e3a0ca96-c4a9-4002-e03f-b8053bc08007"
      },
      "outputs": [
        {
          "name": "stdout",
          "output_type": "stream",
          "text": [
            "Ajuste lasso y ridge con conjunto de datos diabetes\n",
            "\n",
            "---Ajuste lasso----\n",
            "Ajuste con MSE\n",
            "Error inicial ->  155161.97646399765\n",
            "Error final ->  4230.19390077608\n",
            "Tiempo de ejecución -> 6763.606548309326 ms\n",
            "[0.6692541784614949, 1.1768742124931129, 1.486988299536667, 1.1222994355327067, -0.2381551114877626, 0.3350863967192326, -0.642883121666363, 1.2665801559011485, 1.2206187757339493, 0.9895538407857866]\n",
            "\n",
            "Ajuste con MAE\n",
            "Error inicial ->  382.9561796380091\n",
            "Error final ->  56.71728620076333\n",
            "Tiempo de ejecución -> 5973.682641983032 ms\n",
            "[0.7553592760180787, 1.1830407239818685, 1.2502112217194492, 0.9896000271493072, -0.38739140271490324, 0.4488893212669443, -0.211380090497738, 1.2364979638008782, 1.1961924376470796, 0.989307239818992]\n",
            "\n",
            "---Ajuste ridge:---\n",
            "Ajuste con MSE\n",
            "Error inicial ->  155161.97646399765\n",
            "Error final ->  4140.954288347782\n",
            "Tiempo de ejecución -> 6273.349046707153 ms\n",
            "[0.6938768935248033, 1.4595816237536823, 1.7681837002592886, 1.1367533513474015, -0.2271302183619681, 0.2298361002386597, -0.6907165299517257, 1.565791754838637, 1.5038654620390017, 0.988451353592106]\n",
            "\n",
            "Ajuste con MAE\n",
            "Error inicial ->  382.9561796380091\n",
            "Error final ->  56.19657162083954\n",
            "Tiempo de ejecución -> 5673.848867416382 ms\n",
            "[0.8101914919988972, 1.4677400606636521, 1.4888146160831257, 1.0036562672963574, -0.3827495420513582, 0.34352226691749066, -0.2615128173970481, 1.5278858274312326, 1.4759513297981566, 0.9886190045249112]\n"
          ]
        }
      ],
      "source": [
        "print('Ajuste lasso y ridge con conjunto de datos diabetes')\n",
        "\n",
        "reg_term = 0.0001\n",
        "\n",
        "print('\\n---Ajuste lasso----')\n",
        "\n",
        "modelo = []\n",
        "for i in range(len(x[0])):\n",
        "  modelo.append(1)\n",
        "print('Ajuste con MSE')\n",
        "print('Error inicial -> ',lasso_error(modelo,x,y,reg_term,MSE))\n",
        "start = time.time()\n",
        "linear_regression(modelo,x,y,2000,0.000001,reg_term, MSE_GRAD, True, False, False)\n",
        "tiempo = (time.time()-start)*1000\n",
        "print('Error final -> ',lasso_error(modelo,x,y,reg_term,MSE))\n",
        "print(f'Tiempo de ejecución -> {tiempo} ms')\n",
        "print(modelo)\n",
        "\n",
        "\n",
        "modelo = []\n",
        "for i in range(len(x[0])):\n",
        "  modelo.append(1)\n",
        "print('\\nAjuste con MAE')\n",
        "print('Error inicial -> ',lasso_error(modelo,x,y,reg_term,MAE))\n",
        "start = time.time()\n",
        "linear_regression(modelo,x,y,2000,0.0001,reg_term,MAE_GRAD,True,False, False)\n",
        "tiempo = (time.time()-start)*1000\n",
        "print('Error final -> ',lasso_error(modelo,x,y,reg_term,MAE))\n",
        "print(f'Tiempo de ejecución -> {tiempo} ms')\n",
        "print(modelo)\n",
        "\n",
        "print('\\n---Ajuste ridge:---')\n",
        "\n",
        "modelo = []\n",
        "for i in range(len(x[0])):\n",
        "  modelo.append(1)\n",
        "print('Ajuste con MSE')\n",
        "print('Error inicial -> ',ridge_error(modelo,x,y,reg_term,MSE))\n",
        "start = time.time()\n",
        "linear_regression(modelo,x,y,2000,0.000001,reg_term, MSE_GRAD,False, True, False)\n",
        "tiempo = (time.time()-start)*1000\n",
        "print('Error final -> ',ridge_error(modelo,x,y,reg_term,MSE))\n",
        "print(f'Tiempo de ejecución -> {tiempo} ms')\n",
        "print(modelo)\n",
        "\n",
        "\n",
        "modelo = []\n",
        "for i in range(len(x[0])):\n",
        "  modelo.append(1)\n",
        "print('\\nAjuste con MAE')\n",
        "print('Error inicial -> ',ridge_error(modelo,x,y,reg_term,MAE))\n",
        "start = time.time()\n",
        "linear_regression(modelo,x,y,2000,0.0001,reg_term,MAE_GRAD,False, True, False)\n",
        "tiempo = (time.time()-start)*1000\n",
        "print('Error final -> ',ridge_error(modelo,x,y,reg_term,MAE))\n",
        "print(f'Tiempo de ejecución -> {tiempo} ms')\n",
        "print(modelo)"
      ]
    },
    {
      "cell_type": "markdown",
      "metadata": {
        "id": "7jAVHmatCdhK"
      },
      "source": [
        "#Prueba utilizando un regresor de la librería *scikit-learn*"
      ]
    },
    {
      "cell_type": "code",
      "execution_count": 22,
      "metadata": {
        "colab": {
          "base_uri": "https://localhost:8080/"
        },
        "id": "t07dHtzFhLu1",
        "outputId": "b7186056-2126-4a71-e6f0-db4e76ef1c57"
      },
      "outputs": [
        {
          "name": "stdout",
          "output_type": "stream",
          "text": [
            "Ajuste con MSE\n",
            "Error cuadrático ->  2859.6963475867506\n",
            "Error absoluto ->  43.27745202531506\n",
            "Tiempo de ejecución -> 6.584882736206055 ms\n",
            "[[-3.63612242e-02 -2.28596481e+01  5.60296209e+00  1.11680799e+00\n",
            " -1.08999633e+00  7.46450456e-01  3.72004715e-01  6.53383194e+00\n",
            "  6.84831250e+01  2.80116989e-01] -334.5671385187875]\n",
            "\n",
            "Ajuste con Ridge\n",
            "Error cuadrático ->  2860.471596894782\n",
            "Error absoluto ->  43.29169564350627\n",
            "Tiempo de ejecución -> 4.542827606201172 ms\n",
            "[[-3.28523969e-02 -2.26070454e+01  5.64040523e+00  1.11899757e+00\n",
            " -9.14673484e-01  5.84909825e-01  1.77885238e-01  6.25044178e+00\n",
            "  6.31790809e+01  2.87766903e-01] -316.07711860428856]\n",
            "\n",
            "Ajuste con Lasso\n",
            "Error cuadrático ->  2901.5847284544093\n",
            "Error absoluto ->  43.79459928373489\n",
            "Tiempo de ejecución -> 6.254673004150391 ms\n",
            "[[-1.90267115e-02 -1.74770497e+01  5.84243057e+00  1.09154258e+00\n",
            "  1.56132396e-01 -3.15203518e-01 -1.18775171e+00  1.62432746e-01\n",
            "  3.42247151e+01  3.29732281e-01] -202.30265547056504]\n",
            "\n",
            "Ajuste con Elastic-Net\n",
            "Error cuadrático ->  3036.5421510747938\n",
            "Error absoluto ->  45.14673847957149\n",
            "Tiempo de ejecución -> 5.820274353027344 ms\n",
            "[[-0.03883267 -5.75094671  6.08102912  1.05277759  1.18583201 -1.30477833\n",
            " -2.0857284   0.24222546  2.82346397  0.34941129] -113.3713816594184]\n"
          ]
        }
      ],
      "source": [
        "#Regresión lineal optimizando con el error cuadrático\n",
        "reg = linear_model.LinearRegression()\n",
        "\n",
        "start = time.time()\n",
        "reg.fit(x, y)\n",
        "tiempo = (time.time()-start)*1000\n",
        "\n",
        "prediction = reg.predict(x)\n",
        "\n",
        "print('Ajuste con MSE')\n",
        "print('Error cuadrático -> ',mean_squared_error(y, prediction))\n",
        "print('Error absoluto -> ', mean_absolute_error(y, prediction))\n",
        "print(f'Tiempo de ejecución -> {tiempo} ms')\n",
        "print(f'[{reg.coef_} {reg.intercept_}]')\n",
        "\n",
        "#Regresión lineal optimizando con el error ridge\n",
        "reg = linear_model.Ridge()\n",
        "\n",
        "start = time.time()\n",
        "reg.fit(x, y)\n",
        "tiempo = (time.time()-start)*1000\n",
        "\n",
        "prediction = reg.predict(x)\n",
        "\n",
        "print('\\nAjuste con Ridge')\n",
        "print('Error cuadrático -> ',mean_squared_error(y, prediction))\n",
        "print('Error absoluto -> ', mean_absolute_error(y, prediction))\n",
        "print(f'Tiempo de ejecución -> {tiempo} ms')\n",
        "print(f'[{reg.coef_} {reg.intercept_}]')\n",
        "\n",
        "#Regresión lineal optimizando con el error lasso\n",
        "reg = linear_model.Lasso()\n",
        "\n",
        "start = time.time()\n",
        "reg.fit(x, y)\n",
        "tiempo = (time.time()-start)*1000\n",
        "\n",
        "prediction = reg.predict(x)\n",
        "\n",
        "print('\\nAjuste con Lasso')\n",
        "print('Error cuadrático -> ',mean_squared_error(y, prediction))\n",
        "print('Error absoluto -> ', mean_absolute_error(y, prediction))\n",
        "print(f'Tiempo de ejecución -> {tiempo} ms')\n",
        "print(f'[{reg.coef_} {reg.intercept_}]')\n",
        "\n",
        "#Regresión lineal optimizando con el error Elastic-Net\n",
        "reg = linear_model.ElasticNet()\n",
        "\n",
        "start = time.time()\n",
        "reg.fit(x, y)\n",
        "tiempo = (time.time()-start)*1000\n",
        "\n",
        "prediction = reg.predict(x)\n",
        "\n",
        "print('\\nAjuste con Elastic-Net')\n",
        "print('Error cuadrático -> ',mean_squared_error(y, prediction))\n",
        "print('Error absoluto -> ', mean_absolute_error(y, prediction))\n",
        "print(f'Tiempo de ejecución -> {tiempo} ms')\n",
        "print(f'[{reg.coef_} {reg.intercept_}]')"
      ]
    }
  ],
  "metadata": {
    "colab": {
      "collapsed_sections": [
        "FvIg8Q3NACVv",
        "sr-D7RHkAHJp"
      ],
      "provenance": []
    },
    "kernelspec": {
      "display_name": "Python 3 (ipykernel)",
      "language": "python",
      "name": "python3"
    },
    "language_info": {
      "codemirror_mode": {
        "name": "ipython",
        "version": 3
      },
      "file_extension": ".py",
      "mimetype": "text/x-python",
      "name": "python",
      "nbconvert_exporter": "python",
      "pygments_lexer": "ipython3",
      "version": "3.10.12"
    }
  },
  "nbformat": 4,
  "nbformat_minor": 0
}
